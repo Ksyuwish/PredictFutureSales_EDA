{
 "cells": [
  {
   "cell_type": "markdown",
   "id": "internal-mineral",
   "metadata": {
    "papermill": {
     "duration": 0.027264,
     "end_time": "2021-05-11T10:43:06.926649",
     "exception": false,
     "start_time": "2021-05-11T10:43:06.899385",
     "status": "completed"
    },
    "tags": []
   },
   "source": [
    "### Predict Future Sales\n",
    "\n",
    "We are provided with daily historical sales data. Our task is to analyse the data and highlight interesting features.\n",
    "\n",
    "**File descriptions**\n",
    "\n",
    "    sales_train.csv - the training set. Daily historical data from January 2013 to October 2015.\n",
    "    test.csv - the test set. You need to forecast the sales for these shops and products for November 2015.\n",
    "    sample_submission.csv - a sample submission file in the correct format.\n",
    "    items.csv - supplemental information about the items/products.\n",
    "    item_categories.csv  - supplemental information about the items categories.\n",
    "    shops.csv- supplemental information about the shops.\n",
    "\n",
    "**Data fields**\n",
    "\n",
    "    ID - an Id that represents a (Shop, Item) tuple within the test set\n",
    "    shop_id - unique identifier of a shop\n",
    "    item_id - unique identifier of a product\n",
    "    item_category_id - unique identifier of item category\n",
    "    item_cnt_day - number of products sold. You are predicting a monthly amount of this measure\n",
    "    item_price - current price of an item\n",
    "    date - date in format dd/mm/yyyy\n",
    "    date_block_num - a consecutive month number, used for convenience. January 2013 is 0, February 2013 is 1,..., October 2015 is 33\n",
    "    item_name - name of item\n",
    "    shop_name - name of shop\n",
    "    item_category_name - name of item category\n"
   ]
  },
  {
   "cell_type": "code",
   "execution_count": 1,
   "id": "hindu-newfoundland",
   "metadata": {
    "_cell_guid": "b1076dfc-b9ad-4769-8c92-a6c4dae69d19",
    "_uuid": "8f2839f25d086af736a60e9eeb907d3b93b6e0e5",
    "execution": {
     "iopub.execute_input": "2021-05-11T10:43:06.987563Z",
     "iopub.status.busy": "2021-05-11T10:43:06.986437Z",
     "iopub.status.idle": "2021-05-11T10:43:09.382769Z",
     "shell.execute_reply": "2021-05-11T10:43:09.381447Z"
    },
    "papermill": {
     "duration": 2.430419,
     "end_time": "2021-05-11T10:43:09.382955",
     "exception": false,
     "start_time": "2021-05-11T10:43:06.952536",
     "status": "completed"
    },
    "tags": []
   },
   "outputs": [
    {
     "data": {
      "text/html": [
       "        <script type=\"text/javascript\">\n",
       "        window.PlotlyConfig = {MathJaxConfig: 'local'};\n",
       "        if (window.MathJax) {MathJax.Hub.Config({SVG: {font: \"STIX-Web\"}});}\n",
       "        if (typeof require !== 'undefined') {\n",
       "        require.undef(\"plotly\");\n",
       "        requirejs.config({\n",
       "            paths: {\n",
       "                'plotly': ['https://cdn.plot.ly/plotly-latest.min']\n",
       "            }\n",
       "        });\n",
       "        require(['plotly'], function(Plotly) {\n",
       "            window._Plotly = Plotly;\n",
       "        });\n",
       "        }\n",
       "        </script>\n",
       "        "
      ]
     },
     "metadata": {},
     "output_type": "display_data"
    }
   ],
   "source": [
    "import numpy as np # linear algebra\n",
    "import pandas as pd # data processing, CSV file I/O (e.g. pd.read_csv)\n",
    "import re\n",
    "pd.set_option('display.max_columns', None)\n",
    "pd.set_option('max_colwidth', 120)\n",
    "pd.set_option('display.width', 500)\n",
    "\n",
    "import plotly.express as px\n",
    "import plotly.graph_objects as go\n",
    "import plotly\n",
    "plotly.offline.init_notebook_mode(connected = True)\n",
    "\n",
    "import matplotlib.pyplot as plt\n",
    "\n",
    "import seaborn as sns\n",
    "sns.set()\n",
    "\n",
    "from wordcloud import WordCloud\n",
    "from wordcloud import STOPWORDS"
   ]
  },
  {
   "cell_type": "code",
   "execution_count": 2,
   "id": "upper-tongue",
   "metadata": {
    "execution": {
     "iopub.execute_input": "2021-05-11T10:43:09.444334Z",
     "iopub.status.busy": "2021-05-11T10:43:09.443542Z",
     "iopub.status.idle": "2021-05-11T10:43:09.445587Z",
     "shell.execute_reply": "2021-05-11T10:43:09.446151Z"
    },
    "papermill": {
     "duration": 0.036546,
     "end_time": "2021-05-11T10:43:09.446355",
     "exception": false,
     "start_time": "2021-05-11T10:43:09.409809",
     "status": "completed"
    },
    "tags": []
   },
   "outputs": [],
   "source": [
    "ITEMS_CAT_PATH = '../input/competitive-data-science-predict-future-sales/item_categories.csv'\n",
    "ITEMS_PATH = '../input/competitive-data-science-predict-future-sales/items.csv'\n",
    "SALES_TRAIN_PATH = '../input/competitive-data-science-predict-future-sales/sales_train.csv'\n",
    "SAMPLE_SUBMISSION_PATH = '../input/competitive-data-science-predict-future-sales/sample_submission.csv'\n",
    "SHOPS_PATH = '../input/competitive-data-science-predict-future-sales/shops.csv'\n",
    "TEST_PATH = '../input/competitive-data-science-predict-future-sales/test.csv'"
   ]
  },
  {
   "cell_type": "code",
   "execution_count": 3,
   "id": "foster-salvation",
   "metadata": {
    "execution": {
     "iopub.execute_input": "2021-05-11T10:43:09.504937Z",
     "iopub.status.busy": "2021-05-11T10:43:09.504197Z",
     "iopub.status.idle": "2021-05-11T10:43:13.390186Z",
     "shell.execute_reply": "2021-05-11T10:43:13.388641Z"
    },
    "papermill": {
     "duration": 3.916398,
     "end_time": "2021-05-11T10:43:13.390392",
     "exception": false,
     "start_time": "2021-05-11T10:43:09.473994",
     "status": "completed"
    },
    "tags": []
   },
   "outputs": [],
   "source": [
    "items_cats = pd.read_csv(ITEMS_CAT_PATH)\n",
    "items = pd.read_csv(ITEMS_PATH)\n",
    "sales_train = pd.read_csv(SALES_TRAIN_PATH)\n",
    "sample_submission = pd.read_csv(SAMPLE_SUBMISSION_PATH)\n",
    "shops = pd.read_csv(SHOPS_PATH)\n",
    "test = pd.read_csv(TEST_PATH)\n"
   ]
  },
  {
   "cell_type": "markdown",
   "id": "cellular-richardson",
   "metadata": {
    "papermill": {
     "duration": 0.026123,
     "end_time": "2021-05-11T10:43:13.444165",
     "exception": false,
     "start_time": "2021-05-11T10:43:13.418042",
     "status": "completed"
    },
    "tags": []
   },
   "source": [
    "Lower the digit capacity of data types to optimise code work."
   ]
  },
  {
   "cell_type": "code",
   "execution_count": 4,
   "id": "resistant-panic",
   "metadata": {
    "execution": {
     "iopub.execute_input": "2021-05-11T10:43:13.521325Z",
     "iopub.status.busy": "2021-05-11T10:43:13.507499Z",
     "iopub.status.idle": "2021-05-11T10:43:13.864255Z",
     "shell.execute_reply": "2021-05-11T10:43:13.864862Z"
    },
    "papermill": {
     "duration": 0.394261,
     "end_time": "2021-05-11T10:43:13.865085",
     "exception": false,
     "start_time": "2021-05-11T10:43:13.470824",
     "status": "completed"
    },
    "tags": []
   },
   "outputs": [],
   "source": [
    "items_cats['item_category_id'] = pd.to_numeric(items_cats['item_category_id'], downcast='signed')\n",
    "items[['item_id', 'item_category_id']] = items[['item_id', 'item_category_id']].apply(pd.to_numeric, downcast='signed')\n",
    "sales_train[['date_block_num', 'shop_id', 'item_id']] = sales_train[['date_block_num', 'shop_id', 'item_id']].apply(pd.to_numeric, downcast='signed')\n",
    "sales_train[['item_price', 'item_cnt_day']] = sales_train[['item_price', 'item_cnt_day']].apply(pd.to_numeric, downcast='float')\n",
    "sample_submission['ID'] = pd.to_numeric(sample_submission['ID'], downcast='signed')\n",
    "sample_submission['item_cnt_month'] = pd.to_numeric(sample_submission['item_cnt_month'], downcast='float')\n",
    "shops['shop_id'] = pd.to_numeric(shops['shop_id'], downcast='signed')\n",
    "test[['ID', 'shop_id', 'item_id']] = test[['ID', 'shop_id', 'item_id']].apply(pd.to_numeric, downcast='signed')"
   ]
  },
  {
   "cell_type": "markdown",
   "id": "pleased-creek",
   "metadata": {
    "papermill": {
     "duration": 0.026083,
     "end_time": "2021-05-11T10:43:13.917914",
     "exception": false,
     "start_time": "2021-05-11T10:43:13.891831",
     "status": "completed"
    },
    "tags": []
   },
   "source": [
    "Merge several tables into one for easy reference."
   ]
  },
  {
   "cell_type": "code",
   "execution_count": 5,
   "id": "collaborative-blond",
   "metadata": {
    "execution": {
     "iopub.execute_input": "2021-05-11T10:43:13.981721Z",
     "iopub.status.busy": "2021-05-11T10:43:13.980363Z",
     "iopub.status.idle": "2021-05-11T10:43:16.027766Z",
     "shell.execute_reply": "2021-05-11T10:43:16.027128Z"
    },
    "papermill": {
     "duration": 2.082875,
     "end_time": "2021-05-11T10:43:16.027933",
     "exception": false,
     "start_time": "2021-05-11T10:43:13.945058",
     "status": "completed"
    },
    "tags": []
   },
   "outputs": [
    {
     "data": {
      "text/html": [
       "<div>\n",
       "<style scoped>\n",
       "    .dataframe tbody tr th:only-of-type {\n",
       "        vertical-align: middle;\n",
       "    }\n",
       "\n",
       "    .dataframe tbody tr th {\n",
       "        vertical-align: top;\n",
       "    }\n",
       "\n",
       "    .dataframe thead th {\n",
       "        text-align: right;\n",
       "    }\n",
       "</style>\n",
       "<table border=\"1\" class=\"dataframe\">\n",
       "  <thead>\n",
       "    <tr style=\"text-align: right;\">\n",
       "      <th></th>\n",
       "      <th>date</th>\n",
       "      <th>date_block_num</th>\n",
       "      <th>shop_id</th>\n",
       "      <th>item_id</th>\n",
       "      <th>item_price</th>\n",
       "      <th>item_cnt_day</th>\n",
       "      <th>item_name</th>\n",
       "      <th>item_category_id</th>\n",
       "      <th>shop_name</th>\n",
       "      <th>item_category_name</th>\n",
       "    </tr>\n",
       "  </thead>\n",
       "  <tbody>\n",
       "    <tr>\n",
       "      <th>2902959</th>\n",
       "      <td>17.10.2015</td>\n",
       "      <td>33</td>\n",
       "      <td>47</td>\n",
       "      <td>3443</td>\n",
       "      <td>1199.0</td>\n",
       "      <td>1.0</td>\n",
       "      <td>Far Cry 4 [PC, русская версия]</td>\n",
       "      <td>30</td>\n",
       "      <td>Сургут ТРЦ \"Сити Молл\"</td>\n",
       "      <td>Игры PC - Стандартные издания</td>\n",
       "    </tr>\n",
       "    <tr>\n",
       "      <th>2450376</th>\n",
       "      <td>05.02.2015</td>\n",
       "      <td>25</td>\n",
       "      <td>15</td>\n",
       "      <td>3393</td>\n",
       "      <td>1699.0</td>\n",
       "      <td>1.0</td>\n",
       "      <td>Fable Anniversary [Xbox 360, русские субтитры]</td>\n",
       "      <td>23</td>\n",
       "      <td>Калуга ТРЦ \"XXI век\"</td>\n",
       "      <td>Игры - XBOX 360</td>\n",
       "    </tr>\n",
       "    <tr>\n",
       "      <th>1648399</th>\n",
       "      <td>08.05.2014</td>\n",
       "      <td>16</td>\n",
       "      <td>6</td>\n",
       "      <td>21384</td>\n",
       "      <td>399.0</td>\n",
       "      <td>1.0</td>\n",
       "      <td>ХОББИТ: ПУСТОШЬ СМАУГА (2DVD+коллекционная открытка)</td>\n",
       "      <td>40</td>\n",
       "      <td>Воронеж (Плехановская, 13)</td>\n",
       "      <td>Кино - DVD</td>\n",
       "    </tr>\n",
       "    <tr>\n",
       "      <th>1921724</th>\n",
       "      <td>10.08.2014</td>\n",
       "      <td>19</td>\n",
       "      <td>5</td>\n",
       "      <td>14296</td>\n",
       "      <td>149.0</td>\n",
       "      <td>1.0</td>\n",
       "      <td>МАЛАВИТА</td>\n",
       "      <td>40</td>\n",
       "      <td>Вологда ТРЦ \"Мармелад\"</td>\n",
       "      <td>Кино - DVD</td>\n",
       "    </tr>\n",
       "    <tr>\n",
       "      <th>2404627</th>\n",
       "      <td>31.01.2015</td>\n",
       "      <td>24</td>\n",
       "      <td>54</td>\n",
       "      <td>12447</td>\n",
       "      <td>199.0</td>\n",
       "      <td>1.0</td>\n",
       "      <td>КЕЙТ И ЛЕО</td>\n",
       "      <td>40</td>\n",
       "      <td>Химки ТЦ \"Мега\"</td>\n",
       "      <td>Кино - DVD</td>\n",
       "    </tr>\n",
       "    <tr>\n",
       "      <th>2629584</th>\n",
       "      <td>31.05.2015</td>\n",
       "      <td>28</td>\n",
       "      <td>28</td>\n",
       "      <td>16538</td>\n",
       "      <td>249.0</td>\n",
       "      <td>1.0</td>\n",
       "      <td>ОКЕАН ЕЛЬЗИ  Gloria (фирм.)</td>\n",
       "      <td>55</td>\n",
       "      <td>Москва ТЦ \"МЕГА Теплый Стан\" II</td>\n",
       "      <td>Музыка - CD локального производства</td>\n",
       "    </tr>\n",
       "    <tr>\n",
       "      <th>2553596</th>\n",
       "      <td>03.03.2015</td>\n",
       "      <td>26</td>\n",
       "      <td>26</td>\n",
       "      <td>12550</td>\n",
       "      <td>199.0</td>\n",
       "      <td>1.0</td>\n",
       "      <td>КЛАССИКА  Маленькие шедевры великих композиторов  1</td>\n",
       "      <td>55</td>\n",
       "      <td>Москва ТЦ \"Ареал\" (Беляево)</td>\n",
       "      <td>Музыка - CD локального производства</td>\n",
       "    </tr>\n",
       "    <tr>\n",
       "      <th>395755</th>\n",
       "      <td>02.04.2013</td>\n",
       "      <td>3</td>\n",
       "      <td>43</td>\n",
       "      <td>14303</td>\n",
       "      <td>399.0</td>\n",
       "      <td>1.0</td>\n",
       "      <td>МАЛЕНЬКИЙ ПРИНЦ: ПЛАНЕТА ВЕТРОВ/ПЛАНЕТА МУЗЫКИ</td>\n",
       "      <td>40</td>\n",
       "      <td>СПб ТК \"Сенная\"</td>\n",
       "      <td>Кино - DVD</td>\n",
       "    </tr>\n",
       "    <tr>\n",
       "      <th>2751356</th>\n",
       "      <td>25.07.2015</td>\n",
       "      <td>30</td>\n",
       "      <td>53</td>\n",
       "      <td>20953</td>\n",
       "      <td>999.0</td>\n",
       "      <td>1.0</td>\n",
       "      <td>Фляжка стальная WOT Снайпер (101609)</td>\n",
       "      <td>69</td>\n",
       "      <td>Уфа ТЦ \"Семья\" 2</td>\n",
       "      <td>Подарки - Сувениры</td>\n",
       "    </tr>\n",
       "    <tr>\n",
       "      <th>401144</th>\n",
       "      <td>28.04.2013</td>\n",
       "      <td>3</td>\n",
       "      <td>57</td>\n",
       "      <td>21440</td>\n",
       "      <td>399.0</td>\n",
       "      <td>2.0</td>\n",
       "      <td>ХРАНИТЕЛИ СНОВ</td>\n",
       "      <td>40</td>\n",
       "      <td>Якутск Орджоникидзе, 56</td>\n",
       "      <td>Кино - DVD</td>\n",
       "    </tr>\n",
       "  </tbody>\n",
       "</table>\n",
       "</div>"
      ],
      "text/plain": [
       "               date  date_block_num  shop_id  item_id  item_price  item_cnt_day                                             item_name  item_category_id                        shop_name                   item_category_name\n",
       "2902959  17.10.2015              33       47     3443      1199.0           1.0                        Far Cry 4 [PC, русская версия]                30           Сургут ТРЦ \"Сити Молл\"        Игры PC - Стандартные издания\n",
       "2450376  05.02.2015              25       15     3393      1699.0           1.0        Fable Anniversary [Xbox 360, русские субтитры]                23             Калуга ТРЦ \"XXI век\"                      Игры - XBOX 360\n",
       "1648399  08.05.2014              16        6    21384       399.0           1.0  ХОББИТ: ПУСТОШЬ СМАУГА (2DVD+коллекционная открытка)                40       Воронеж (Плехановская, 13)                           Кино - DVD\n",
       "1921724  10.08.2014              19        5    14296       149.0           1.0                                              МАЛАВИТА                40           Вологда ТРЦ \"Мармелад\"                           Кино - DVD\n",
       "2404627  31.01.2015              24       54    12447       199.0           1.0                                            КЕЙТ И ЛЕО                40                  Химки ТЦ \"Мега\"                           Кино - DVD\n",
       "2629584  31.05.2015              28       28    16538       249.0           1.0                           ОКЕАН ЕЛЬЗИ  Gloria (фирм.)                55  Москва ТЦ \"МЕГА Теплый Стан\" II  Музыка - CD локального производства\n",
       "2553596  03.03.2015              26       26    12550       199.0           1.0   КЛАССИКА  Маленькие шедевры великих композиторов  1                55      Москва ТЦ \"Ареал\" (Беляево)  Музыка - CD локального производства\n",
       "395755   02.04.2013               3       43    14303       399.0           1.0        МАЛЕНЬКИЙ ПРИНЦ: ПЛАНЕТА ВЕТРОВ/ПЛАНЕТА МУЗЫКИ                40                  СПб ТК \"Сенная\"                           Кино - DVD\n",
       "2751356  25.07.2015              30       53    20953       999.0           1.0                  Фляжка стальная WOT Снайпер (101609)                69                 Уфа ТЦ \"Семья\" 2                   Подарки - Сувениры\n",
       "401144   28.04.2013               3       57    21440       399.0           2.0                                        ХРАНИТЕЛИ СНОВ                40          Якутск Орджоникидзе, 56                           Кино - DVD"
      ]
     },
     "execution_count": 5,
     "metadata": {},
     "output_type": "execute_result"
    }
   ],
   "source": [
    "sales_item = sales_train.merge(items, on='item_id', how='left')\n",
    "sales_item_shops = sales_item.merge(shops, on='shop_id', how='left')\n",
    "df = sales_item_shops.merge(items_cats, on='item_category_id', how='left')\n",
    "df.sample(10)"
   ]
  },
  {
   "cell_type": "code",
   "execution_count": 6,
   "id": "naked-exhibit",
   "metadata": {
    "execution": {
     "iopub.execute_input": "2021-05-11T10:43:16.105055Z",
     "iopub.status.busy": "2021-05-11T10:43:16.103920Z",
     "iopub.status.idle": "2021-05-11T10:43:16.108197Z",
     "shell.execute_reply": "2021-05-11T10:43:16.108848Z"
    },
    "papermill": {
     "duration": 0.051057,
     "end_time": "2021-05-11T10:43:16.109061",
     "exception": false,
     "start_time": "2021-05-11T10:43:16.058004",
     "status": "completed"
    },
    "tags": []
   },
   "outputs": [
    {
     "name": "stdout",
     "output_type": "stream",
     "text": [
      "<class 'pandas.core.frame.DataFrame'>\n",
      "Int64Index: 2935849 entries, 0 to 2935848\n",
      "Data columns (total 10 columns):\n",
      " #   Column              Dtype  \n",
      "---  ------              -----  \n",
      " 0   date                object \n",
      " 1   date_block_num      int8   \n",
      " 2   shop_id             int8   \n",
      " 3   item_id             int16  \n",
      " 4   item_price          float32\n",
      " 5   item_cnt_day        float32\n",
      " 6   item_name           object \n",
      " 7   item_category_id    int8   \n",
      " 8   shop_name           object \n",
      " 9   item_category_name  object \n",
      "dtypes: float32(2), int16(1), int8(3), object(4)\n",
      "memory usage: 148.4+ MB\n"
     ]
    }
   ],
   "source": [
    "df.info()"
   ]
  },
  {
   "cell_type": "markdown",
   "id": "foreign-candidate",
   "metadata": {
    "papermill": {
     "duration": 0.027874,
     "end_time": "2021-05-11T10:43:16.164779",
     "exception": false,
     "start_time": "2021-05-11T10:43:16.136905",
     "status": "completed"
    },
    "tags": []
   },
   "source": [
    "Lowercase the columns."
   ]
  },
  {
   "cell_type": "code",
   "execution_count": 7,
   "id": "russian-arbitration",
   "metadata": {
    "execution": {
     "iopub.execute_input": "2021-05-11T10:43:16.518099Z",
     "iopub.status.busy": "2021-05-11T10:43:16.517394Z",
     "iopub.status.idle": "2021-05-11T10:43:22.655282Z",
     "shell.execute_reply": "2021-05-11T10:43:22.654592Z"
    },
    "papermill": {
     "duration": 6.46263,
     "end_time": "2021-05-11T10:43:22.655472",
     "exception": false,
     "start_time": "2021-05-11T10:43:16.192842",
     "status": "completed"
    },
    "tags": []
   },
   "outputs": [],
   "source": [
    "columns = ['item_name', 'shop_name', 'item_category_name']\n",
    "for column in columns: df[column] = df[column].str.lower()"
   ]
  },
  {
   "cell_type": "code",
   "execution_count": 8,
   "id": "durable-underground",
   "metadata": {
    "execution": {
     "iopub.execute_input": "2021-05-11T10:43:22.720788Z",
     "iopub.status.busy": "2021-05-11T10:43:22.719644Z",
     "iopub.status.idle": "2021-05-11T10:43:22.724159Z",
     "shell.execute_reply": "2021-05-11T10:43:22.723377Z"
    },
    "papermill": {
     "duration": 0.039476,
     "end_time": "2021-05-11T10:43:22.724333",
     "exception": false,
     "start_time": "2021-05-11T10:43:22.684857",
     "status": "completed"
    },
    "tags": []
   },
   "outputs": [
    {
     "name": "stdout",
     "output_type": "stream",
     "text": [
      "Count rows:  2935849\n",
      "Count columns:  10\n"
     ]
    }
   ],
   "source": [
    "print('Count rows: ', df.shape[0])\n",
    "print('Count columns: ', df.shape[1])"
   ]
  },
  {
   "cell_type": "code",
   "execution_count": 9,
   "id": "dramatic-associate",
   "metadata": {
    "execution": {
     "iopub.execute_input": "2021-05-11T10:43:22.816216Z",
     "iopub.status.busy": "2021-05-11T10:43:22.815052Z",
     "iopub.status.idle": "2021-05-11T10:43:23.172214Z",
     "shell.execute_reply": "2021-05-11T10:43:23.171084Z"
    },
    "papermill": {
     "duration": 0.418513,
     "end_time": "2021-05-11T10:43:23.172380",
     "exception": false,
     "start_time": "2021-05-11T10:43:22.753867",
     "status": "completed"
    },
    "tags": []
   },
   "outputs": [
    {
     "data": {
      "text/html": [
       "<div>\n",
       "<style scoped>\n",
       "    .dataframe tbody tr th:only-of-type {\n",
       "        vertical-align: middle;\n",
       "    }\n",
       "\n",
       "    .dataframe tbody tr th {\n",
       "        vertical-align: top;\n",
       "    }\n",
       "\n",
       "    .dataframe thead th {\n",
       "        text-align: right;\n",
       "    }\n",
       "</style>\n",
       "<table border=\"1\" class=\"dataframe\">\n",
       "  <thead>\n",
       "    <tr style=\"text-align: right;\">\n",
       "      <th></th>\n",
       "      <th>count</th>\n",
       "      <th>mean</th>\n",
       "      <th>std</th>\n",
       "      <th>min</th>\n",
       "      <th>25%</th>\n",
       "      <th>50%</th>\n",
       "      <th>75%</th>\n",
       "      <th>max</th>\n",
       "    </tr>\n",
       "  </thead>\n",
       "  <tbody>\n",
       "    <tr>\n",
       "      <th>date_block_num</th>\n",
       "      <td>2935849.0</td>\n",
       "      <td>14.569911</td>\n",
       "      <td>9.422988</td>\n",
       "      <td>0.0</td>\n",
       "      <td>7.0</td>\n",
       "      <td>14.0</td>\n",
       "      <td>23.0</td>\n",
       "      <td>33.0</td>\n",
       "    </tr>\n",
       "    <tr>\n",
       "      <th>shop_id</th>\n",
       "      <td>2935849.0</td>\n",
       "      <td>33.001728</td>\n",
       "      <td>16.226973</td>\n",
       "      <td>0.0</td>\n",
       "      <td>22.0</td>\n",
       "      <td>31.0</td>\n",
       "      <td>47.0</td>\n",
       "      <td>59.0</td>\n",
       "    </tr>\n",
       "    <tr>\n",
       "      <th>item_id</th>\n",
       "      <td>2935849.0</td>\n",
       "      <td>10197.227057</td>\n",
       "      <td>6324.297354</td>\n",
       "      <td>0.0</td>\n",
       "      <td>4476.0</td>\n",
       "      <td>9343.0</td>\n",
       "      <td>15684.0</td>\n",
       "      <td>22169.0</td>\n",
       "    </tr>\n",
       "    <tr>\n",
       "      <th>item_price</th>\n",
       "      <td>2935849.0</td>\n",
       "      <td>890.623413</td>\n",
       "      <td>1726.439819</td>\n",
       "      <td>-1.0</td>\n",
       "      <td>249.0</td>\n",
       "      <td>399.0</td>\n",
       "      <td>999.0</td>\n",
       "      <td>307980.0</td>\n",
       "    </tr>\n",
       "    <tr>\n",
       "      <th>item_cnt_day</th>\n",
       "      <td>2935849.0</td>\n",
       "      <td>1.242641</td>\n",
       "      <td>2.612213</td>\n",
       "      <td>-22.0</td>\n",
       "      <td>1.0</td>\n",
       "      <td>1.0</td>\n",
       "      <td>1.0</td>\n",
       "      <td>2169.0</td>\n",
       "    </tr>\n",
       "    <tr>\n",
       "      <th>item_category_id</th>\n",
       "      <td>2935849.0</td>\n",
       "      <td>40.001383</td>\n",
       "      <td>17.100759</td>\n",
       "      <td>0.0</td>\n",
       "      <td>28.0</td>\n",
       "      <td>40.0</td>\n",
       "      <td>55.0</td>\n",
       "      <td>83.0</td>\n",
       "    </tr>\n",
       "  </tbody>\n",
       "</table>\n",
       "</div>"
      ],
      "text/plain": [
       "                      count          mean          std   min     25%     50%      75%       max\n",
       "date_block_num    2935849.0     14.569911     9.422988   0.0     7.0    14.0     23.0      33.0\n",
       "shop_id           2935849.0     33.001728    16.226973   0.0    22.0    31.0     47.0      59.0\n",
       "item_id           2935849.0  10197.227057  6324.297354   0.0  4476.0  9343.0  15684.0   22169.0\n",
       "item_price        2935849.0    890.623413  1726.439819  -1.0   249.0   399.0    999.0  307980.0\n",
       "item_cnt_day      2935849.0      1.242641     2.612213 -22.0     1.0     1.0      1.0    2169.0\n",
       "item_category_id  2935849.0     40.001383    17.100759   0.0    28.0    40.0     55.0      83.0"
      ]
     },
     "execution_count": 9,
     "metadata": {},
     "output_type": "execute_result"
    }
   ],
   "source": [
    "df.describe().T"
   ]
  },
  {
   "cell_type": "markdown",
   "id": "modular-angola",
   "metadata": {
    "papermill": {
     "duration": 0.028577,
     "end_time": "2021-05-11T10:43:23.229851",
     "exception": false,
     "start_time": "2021-05-11T10:43:23.201274",
     "status": "completed"
    },
    "tags": []
   },
   "source": [
    "Here we can see anomalies in the data: a negative value for the price and quantity of goods sold per day."
   ]
  },
  {
   "cell_type": "code",
   "execution_count": 10,
   "id": "aware-morgan",
   "metadata": {
    "execution": {
     "iopub.execute_input": "2021-05-11T10:43:23.294318Z",
     "iopub.status.busy": "2021-05-11T10:43:23.293562Z",
     "iopub.status.idle": "2021-05-11T10:43:23.343924Z",
     "shell.execute_reply": "2021-05-11T10:43:23.343309Z"
    },
    "papermill": {
     "duration": 0.085505,
     "end_time": "2021-05-11T10:43:23.344070",
     "exception": false,
     "start_time": "2021-05-11T10:43:23.258565",
     "status": "completed"
    },
    "tags": []
   },
   "outputs": [
    {
     "name": "stdout",
     "output_type": "stream",
     "text": [
      "Count of rows with abnormal price: 1\n",
      "Count of rows with abnormal quantity of goods sold per day: 7356\n"
     ]
    }
   ],
   "source": [
    "print('Count of rows with abnormal price: {:.0f}'.format(len(df[df['item_price'] <= 0])))\n",
    "print('Count of rows with abnormal quantity of goods sold per day: {:.0f}'.format(len(df[df['item_cnt_day'] < 0])))"
   ]
  },
  {
   "cell_type": "markdown",
   "id": "coordinate-percentage",
   "metadata": {
    "papermill": {
     "duration": 0.029088,
     "end_time": "2021-05-11T10:43:23.402551",
     "exception": false,
     "start_time": "2021-05-11T10:43:23.373463",
     "status": "completed"
    },
    "tags": []
   },
   "source": [
    "Remove all rows with anomalies."
   ]
  },
  {
   "cell_type": "code",
   "execution_count": 11,
   "id": "involved-valve",
   "metadata": {
    "execution": {
     "iopub.execute_input": "2021-05-11T10:43:23.465663Z",
     "iopub.status.busy": "2021-05-11T10:43:23.465078Z",
     "iopub.status.idle": "2021-05-11T10:43:23.887964Z",
     "shell.execute_reply": "2021-05-11T10:43:23.887371Z"
    },
    "papermill": {
     "duration": 0.455794,
     "end_time": "2021-05-11T10:43:23.888107",
     "exception": false,
     "start_time": "2021-05-11T10:43:23.432313",
     "status": "completed"
    },
    "tags": []
   },
   "outputs": [],
   "source": [
    "df = df[~(df['item_price'] <= 0) & ~(df['item_cnt_day'] < 0)]"
   ]
  },
  {
   "cell_type": "code",
   "execution_count": 12,
   "id": "precise-macedonia",
   "metadata": {
    "execution": {
     "iopub.execute_input": "2021-05-11T10:43:24.818556Z",
     "iopub.status.busy": "2021-05-11T10:43:23.954458Z",
     "iopub.status.idle": "2021-05-11T10:43:29.000898Z",
     "shell.execute_reply": "2021-05-11T10:43:29.000229Z"
    },
    "papermill": {
     "duration": 5.08345,
     "end_time": "2021-05-11T10:43:29.001064",
     "exception": false,
     "start_time": "2021-05-11T10:43:23.917614",
     "status": "completed"
    },
    "tags": []
   },
   "outputs": [
    {
     "data": {
      "text/html": [
       "<div>\n",
       "<style scoped>\n",
       "    .dataframe tbody tr th:only-of-type {\n",
       "        vertical-align: middle;\n",
       "    }\n",
       "\n",
       "    .dataframe tbody tr th {\n",
       "        vertical-align: top;\n",
       "    }\n",
       "\n",
       "    .dataframe thead th {\n",
       "        text-align: right;\n",
       "    }\n",
       "</style>\n",
       "<table border=\"1\" class=\"dataframe\">\n",
       "  <thead>\n",
       "    <tr style=\"text-align: right;\">\n",
       "      <th></th>\n",
       "      <th>count</th>\n",
       "      <th>unique</th>\n",
       "      <th>top</th>\n",
       "      <th>freq</th>\n",
       "    </tr>\n",
       "  </thead>\n",
       "  <tbody>\n",
       "    <tr>\n",
       "      <th>date</th>\n",
       "      <td>2928492</td>\n",
       "      <td>1034</td>\n",
       "      <td>28.12.2013</td>\n",
       "      <td>9415</td>\n",
       "    </tr>\n",
       "    <tr>\n",
       "      <th>item_name</th>\n",
       "      <td>2928492</td>\n",
       "      <td>21746</td>\n",
       "      <td>фирменный пакет майка 1с интерес белый (34*42) 45 мкм</td>\n",
       "      <td>31337</td>\n",
       "    </tr>\n",
       "    <tr>\n",
       "      <th>shop_name</th>\n",
       "      <td>2928492</td>\n",
       "      <td>60</td>\n",
       "      <td>москва тц \"семеновский\"</td>\n",
       "      <td>235185</td>\n",
       "    </tr>\n",
       "    <tr>\n",
       "      <th>item_category_name</th>\n",
       "      <td>2928492</td>\n",
       "      <td>84</td>\n",
       "      <td>кино - dvd</td>\n",
       "      <td>563938</td>\n",
       "    </tr>\n",
       "  </tbody>\n",
       "</table>\n",
       "</div>"
      ],
      "text/plain": [
       "                      count unique                                                    top    freq\n",
       "date                2928492   1034                                             28.12.2013    9415\n",
       "item_name           2928492  21746  фирменный пакет майка 1с интерес белый (34*42) 45 мкм   31337\n",
       "shop_name           2928492     60                                москва тц \"семеновский\"  235185\n",
       "item_category_name  2928492     84                                             кино - dvd  563938"
      ]
     },
     "execution_count": 12,
     "metadata": {},
     "output_type": "execute_result"
    }
   ],
   "source": [
    "df.describe(include = ['object']).T"
   ]
  },
  {
   "cell_type": "code",
   "execution_count": 13,
   "id": "selected-generation",
   "metadata": {
    "execution": {
     "iopub.execute_input": "2021-05-11T10:43:29.241825Z",
     "iopub.status.busy": "2021-05-11T10:43:29.110921Z",
     "iopub.status.idle": "2021-05-11T10:43:36.896208Z",
     "shell.execute_reply": "2021-05-11T10:43:36.894699Z"
    },
    "papermill": {
     "duration": 7.865226,
     "end_time": "2021-05-11T10:43:36.896404",
     "exception": false,
     "start_time": "2021-05-11T10:43:29.031178",
     "status": "completed"
    },
    "tags": []
   },
   "outputs": [
    {
     "name": "stdout",
     "output_type": "stream",
     "text": [
      "Count duplicates: 6\n"
     ]
    }
   ],
   "source": [
    "print(f'Count duplicates: {df.duplicated().sum()}')\n",
    "df = df.drop_duplicates()"
   ]
  },
  {
   "cell_type": "code",
   "execution_count": 14,
   "id": "hybrid-repeat",
   "metadata": {
    "execution": {
     "iopub.execute_input": "2021-05-11T10:43:36.972182Z",
     "iopub.status.busy": "2021-05-11T10:43:36.971468Z",
     "iopub.status.idle": "2021-05-11T10:43:36.976411Z",
     "shell.execute_reply": "2021-05-11T10:43:36.974921Z"
    },
    "papermill": {
     "duration": 0.048406,
     "end_time": "2021-05-11T10:43:36.976599",
     "exception": false,
     "start_time": "2021-05-11T10:43:36.928193",
     "status": "completed"
    },
    "tags": []
   },
   "outputs": [
    {
     "name": "stdout",
     "output_type": "stream",
     "text": [
      "<class 'pandas.core.frame.DataFrame'>\n",
      "Int64Index: 2928486 entries, 0 to 2935848\n",
      "Data columns (total 10 columns):\n",
      " #   Column              Dtype  \n",
      "---  ------              -----  \n",
      " 0   date                object \n",
      " 1   date_block_num      int8   \n",
      " 2   shop_id             int8   \n",
      " 3   item_id             int16  \n",
      " 4   item_price          float32\n",
      " 5   item_cnt_day        float32\n",
      " 6   item_name           object \n",
      " 7   item_category_id    int8   \n",
      " 8   shop_name           object \n",
      " 9   item_category_name  object \n",
      "dtypes: float32(2), int16(1), int8(3), object(4)\n",
      "memory usage: 148.0+ MB\n"
     ]
    }
   ],
   "source": [
    "df.info()"
   ]
  },
  {
   "cell_type": "code",
   "execution_count": 15,
   "id": "loved-relevance",
   "metadata": {
    "execution": {
     "iopub.execute_input": "2021-05-11T10:43:37.211108Z",
     "iopub.status.busy": "2021-05-11T10:43:37.210378Z",
     "iopub.status.idle": "2021-05-11T10:43:38.199268Z",
     "shell.execute_reply": "2021-05-11T10:43:38.198551Z"
    },
    "papermill": {
     "duration": 1.191086,
     "end_time": "2021-05-11T10:43:38.199439",
     "exception": false,
     "start_time": "2021-05-11T10:43:37.008353",
     "status": "completed"
    },
    "tags": []
   },
   "outputs": [],
   "source": [
    "df['date'] = df['date'].astype('datetime64[Y]')"
   ]
  },
  {
   "cell_type": "code",
   "execution_count": 16,
   "id": "choice-grove",
   "metadata": {
    "execution": {
     "iopub.execute_input": "2021-05-11T10:43:38.270132Z",
     "iopub.status.busy": "2021-05-11T10:43:38.268957Z",
     "iopub.status.idle": "2021-05-11T10:43:38.298891Z",
     "shell.execute_reply": "2021-05-11T10:43:38.299444Z"
    },
    "papermill": {
     "duration": 0.068675,
     "end_time": "2021-05-11T10:43:38.299660",
     "exception": false,
     "start_time": "2021-05-11T10:43:38.230985",
     "status": "completed"
    },
    "tags": []
   },
   "outputs": [
    {
     "name": "stdout",
     "output_type": "stream",
     "text": [
      "Min date: 2013-01-01\n",
      "Max date 2015-01-01\n"
     ]
    }
   ],
   "source": [
    "print('Min date:', df['date'].min().date())\n",
    "print('Max date', df['date'].max().date())"
   ]
  },
  {
   "cell_type": "code",
   "execution_count": 17,
   "id": "peaceful-baptist",
   "metadata": {
    "execution": {
     "iopub.execute_input": "2021-05-11T10:43:38.371851Z",
     "iopub.status.busy": "2021-05-11T10:43:38.371180Z",
     "iopub.status.idle": "2021-05-11T10:43:39.910303Z",
     "shell.execute_reply": "2021-05-11T10:43:39.909616Z"
    },
    "papermill": {
     "duration": 1.578333,
     "end_time": "2021-05-11T10:43:39.910443",
     "exception": false,
     "start_time": "2021-05-11T10:43:38.332110",
     "status": "completed"
    },
    "tags": []
   },
   "outputs": [
    {
     "data": {
      "application/vnd.plotly.v1+json": {
       "config": {
        "plotlyServerURL": "https://plot.ly"
       },
       "data": [
        {
         "hovertemplate": "number_of_month=%{x}<br>item_cnt=%{y}<extra></extra>",
         "legendgroup": "",
         "line": {
          "color": "#636efa",
          "dash": "solid"
         },
         "mode": "lines",
         "name": "",
         "orientation": "v",
         "showlegend": false,
         "type": "scatter",
         "x": [
          0,
          1,
          2,
          3,
          4,
          5,
          6,
          7,
          8,
          9,
          10,
          11,
          12,
          13,
          14,
          15,
          16,
          17,
          18,
          19,
          20,
          21,
          22,
          23,
          24,
          25,
          26,
          27,
          28,
          29,
          30,
          31,
          32,
          33
         ],
         "xaxis": "x",
         "y": [
          131849,
          128382,
          147438,
          107439,
          107147,
          125583,
          117165,
          125586,
          133551,
          127815,
          130270,
          183670,
          117243,
          109974,
          115500,
          96744,
          97937,
          97623,
          91504,
          102910,
          99427,
          107623,
          118050,
          169054,
          111299,
          84419,
          82233,
          77948,
          72435,
          64237,
          63316,
          66196,
          72989,
          71184
         ],
         "yaxis": "y"
        }
       ],
       "layout": {
        "legend": {
         "tracegroupgap": 0
        },
        "margin": {
         "t": 60
        },
        "template": {
         "data": {
          "bar": [
           {
            "error_x": {
             "color": "#2a3f5f"
            },
            "error_y": {
             "color": "#2a3f5f"
            },
            "marker": {
             "line": {
              "color": "#E5ECF6",
              "width": 0.5
             }
            },
            "type": "bar"
           }
          ],
          "barpolar": [
           {
            "marker": {
             "line": {
              "color": "#E5ECF6",
              "width": 0.5
             }
            },
            "type": "barpolar"
           }
          ],
          "carpet": [
           {
            "aaxis": {
             "endlinecolor": "#2a3f5f",
             "gridcolor": "white",
             "linecolor": "white",
             "minorgridcolor": "white",
             "startlinecolor": "#2a3f5f"
            },
            "baxis": {
             "endlinecolor": "#2a3f5f",
             "gridcolor": "white",
             "linecolor": "white",
             "minorgridcolor": "white",
             "startlinecolor": "#2a3f5f"
            },
            "type": "carpet"
           }
          ],
          "choropleth": [
           {
            "colorbar": {
             "outlinewidth": 0,
             "ticks": ""
            },
            "type": "choropleth"
           }
          ],
          "contour": [
           {
            "colorbar": {
             "outlinewidth": 0,
             "ticks": ""
            },
            "colorscale": [
             [
              0,
              "#0d0887"
             ],
             [
              0.1111111111111111,
              "#46039f"
             ],
             [
              0.2222222222222222,
              "#7201a8"
             ],
             [
              0.3333333333333333,
              "#9c179e"
             ],
             [
              0.4444444444444444,
              "#bd3786"
             ],
             [
              0.5555555555555556,
              "#d8576b"
             ],
             [
              0.6666666666666666,
              "#ed7953"
             ],
             [
              0.7777777777777778,
              "#fb9f3a"
             ],
             [
              0.8888888888888888,
              "#fdca26"
             ],
             [
              1,
              "#f0f921"
             ]
            ],
            "type": "contour"
           }
          ],
          "contourcarpet": [
           {
            "colorbar": {
             "outlinewidth": 0,
             "ticks": ""
            },
            "type": "contourcarpet"
           }
          ],
          "heatmap": [
           {
            "colorbar": {
             "outlinewidth": 0,
             "ticks": ""
            },
            "colorscale": [
             [
              0,
              "#0d0887"
             ],
             [
              0.1111111111111111,
              "#46039f"
             ],
             [
              0.2222222222222222,
              "#7201a8"
             ],
             [
              0.3333333333333333,
              "#9c179e"
             ],
             [
              0.4444444444444444,
              "#bd3786"
             ],
             [
              0.5555555555555556,
              "#d8576b"
             ],
             [
              0.6666666666666666,
              "#ed7953"
             ],
             [
              0.7777777777777778,
              "#fb9f3a"
             ],
             [
              0.8888888888888888,
              "#fdca26"
             ],
             [
              1,
              "#f0f921"
             ]
            ],
            "type": "heatmap"
           }
          ],
          "heatmapgl": [
           {
            "colorbar": {
             "outlinewidth": 0,
             "ticks": ""
            },
            "colorscale": [
             [
              0,
              "#0d0887"
             ],
             [
              0.1111111111111111,
              "#46039f"
             ],
             [
              0.2222222222222222,
              "#7201a8"
             ],
             [
              0.3333333333333333,
              "#9c179e"
             ],
             [
              0.4444444444444444,
              "#bd3786"
             ],
             [
              0.5555555555555556,
              "#d8576b"
             ],
             [
              0.6666666666666666,
              "#ed7953"
             ],
             [
              0.7777777777777778,
              "#fb9f3a"
             ],
             [
              0.8888888888888888,
              "#fdca26"
             ],
             [
              1,
              "#f0f921"
             ]
            ],
            "type": "heatmapgl"
           }
          ],
          "histogram": [
           {
            "marker": {
             "colorbar": {
              "outlinewidth": 0,
              "ticks": ""
             }
            },
            "type": "histogram"
           }
          ],
          "histogram2d": [
           {
            "colorbar": {
             "outlinewidth": 0,
             "ticks": ""
            },
            "colorscale": [
             [
              0,
              "#0d0887"
             ],
             [
              0.1111111111111111,
              "#46039f"
             ],
             [
              0.2222222222222222,
              "#7201a8"
             ],
             [
              0.3333333333333333,
              "#9c179e"
             ],
             [
              0.4444444444444444,
              "#bd3786"
             ],
             [
              0.5555555555555556,
              "#d8576b"
             ],
             [
              0.6666666666666666,
              "#ed7953"
             ],
             [
              0.7777777777777778,
              "#fb9f3a"
             ],
             [
              0.8888888888888888,
              "#fdca26"
             ],
             [
              1,
              "#f0f921"
             ]
            ],
            "type": "histogram2d"
           }
          ],
          "histogram2dcontour": [
           {
            "colorbar": {
             "outlinewidth": 0,
             "ticks": ""
            },
            "colorscale": [
             [
              0,
              "#0d0887"
             ],
             [
              0.1111111111111111,
              "#46039f"
             ],
             [
              0.2222222222222222,
              "#7201a8"
             ],
             [
              0.3333333333333333,
              "#9c179e"
             ],
             [
              0.4444444444444444,
              "#bd3786"
             ],
             [
              0.5555555555555556,
              "#d8576b"
             ],
             [
              0.6666666666666666,
              "#ed7953"
             ],
             [
              0.7777777777777778,
              "#fb9f3a"
             ],
             [
              0.8888888888888888,
              "#fdca26"
             ],
             [
              1,
              "#f0f921"
             ]
            ],
            "type": "histogram2dcontour"
           }
          ],
          "mesh3d": [
           {
            "colorbar": {
             "outlinewidth": 0,
             "ticks": ""
            },
            "type": "mesh3d"
           }
          ],
          "parcoords": [
           {
            "line": {
             "colorbar": {
              "outlinewidth": 0,
              "ticks": ""
             }
            },
            "type": "parcoords"
           }
          ],
          "pie": [
           {
            "automargin": true,
            "type": "pie"
           }
          ],
          "scatter": [
           {
            "marker": {
             "colorbar": {
              "outlinewidth": 0,
              "ticks": ""
             }
            },
            "type": "scatter"
           }
          ],
          "scatter3d": [
           {
            "line": {
             "colorbar": {
              "outlinewidth": 0,
              "ticks": ""
             }
            },
            "marker": {
             "colorbar": {
              "outlinewidth": 0,
              "ticks": ""
             }
            },
            "type": "scatter3d"
           }
          ],
          "scattercarpet": [
           {
            "marker": {
             "colorbar": {
              "outlinewidth": 0,
              "ticks": ""
             }
            },
            "type": "scattercarpet"
           }
          ],
          "scattergeo": [
           {
            "marker": {
             "colorbar": {
              "outlinewidth": 0,
              "ticks": ""
             }
            },
            "type": "scattergeo"
           }
          ],
          "scattergl": [
           {
            "marker": {
             "colorbar": {
              "outlinewidth": 0,
              "ticks": ""
             }
            },
            "type": "scattergl"
           }
          ],
          "scattermapbox": [
           {
            "marker": {
             "colorbar": {
              "outlinewidth": 0,
              "ticks": ""
             }
            },
            "type": "scattermapbox"
           }
          ],
          "scatterpolar": [
           {
            "marker": {
             "colorbar": {
              "outlinewidth": 0,
              "ticks": ""
             }
            },
            "type": "scatterpolar"
           }
          ],
          "scatterpolargl": [
           {
            "marker": {
             "colorbar": {
              "outlinewidth": 0,
              "ticks": ""
             }
            },
            "type": "scatterpolargl"
           }
          ],
          "scatterternary": [
           {
            "marker": {
             "colorbar": {
              "outlinewidth": 0,
              "ticks": ""
             }
            },
            "type": "scatterternary"
           }
          ],
          "surface": [
           {
            "colorbar": {
             "outlinewidth": 0,
             "ticks": ""
            },
            "colorscale": [
             [
              0,
              "#0d0887"
             ],
             [
              0.1111111111111111,
              "#46039f"
             ],
             [
              0.2222222222222222,
              "#7201a8"
             ],
             [
              0.3333333333333333,
              "#9c179e"
             ],
             [
              0.4444444444444444,
              "#bd3786"
             ],
             [
              0.5555555555555556,
              "#d8576b"
             ],
             [
              0.6666666666666666,
              "#ed7953"
             ],
             [
              0.7777777777777778,
              "#fb9f3a"
             ],
             [
              0.8888888888888888,
              "#fdca26"
             ],
             [
              1,
              "#f0f921"
             ]
            ],
            "type": "surface"
           }
          ],
          "table": [
           {
            "cells": {
             "fill": {
              "color": "#EBF0F8"
             },
             "line": {
              "color": "white"
             }
            },
            "header": {
             "fill": {
              "color": "#C8D4E3"
             },
             "line": {
              "color": "white"
             }
            },
            "type": "table"
           }
          ]
         },
         "layout": {
          "annotationdefaults": {
           "arrowcolor": "#2a3f5f",
           "arrowhead": 0,
           "arrowwidth": 1
          },
          "autotypenumbers": "strict",
          "coloraxis": {
           "colorbar": {
            "outlinewidth": 0,
            "ticks": ""
           }
          },
          "colorscale": {
           "diverging": [
            [
             0,
             "#8e0152"
            ],
            [
             0.1,
             "#c51b7d"
            ],
            [
             0.2,
             "#de77ae"
            ],
            [
             0.3,
             "#f1b6da"
            ],
            [
             0.4,
             "#fde0ef"
            ],
            [
             0.5,
             "#f7f7f7"
            ],
            [
             0.6,
             "#e6f5d0"
            ],
            [
             0.7,
             "#b8e186"
            ],
            [
             0.8,
             "#7fbc41"
            ],
            [
             0.9,
             "#4d9221"
            ],
            [
             1,
             "#276419"
            ]
           ],
           "sequential": [
            [
             0,
             "#0d0887"
            ],
            [
             0.1111111111111111,
             "#46039f"
            ],
            [
             0.2222222222222222,
             "#7201a8"
            ],
            [
             0.3333333333333333,
             "#9c179e"
            ],
            [
             0.4444444444444444,
             "#bd3786"
            ],
            [
             0.5555555555555556,
             "#d8576b"
            ],
            [
             0.6666666666666666,
             "#ed7953"
            ],
            [
             0.7777777777777778,
             "#fb9f3a"
            ],
            [
             0.8888888888888888,
             "#fdca26"
            ],
            [
             1,
             "#f0f921"
            ]
           ],
           "sequentialminus": [
            [
             0,
             "#0d0887"
            ],
            [
             0.1111111111111111,
             "#46039f"
            ],
            [
             0.2222222222222222,
             "#7201a8"
            ],
            [
             0.3333333333333333,
             "#9c179e"
            ],
            [
             0.4444444444444444,
             "#bd3786"
            ],
            [
             0.5555555555555556,
             "#d8576b"
            ],
            [
             0.6666666666666666,
             "#ed7953"
            ],
            [
             0.7777777777777778,
             "#fb9f3a"
            ],
            [
             0.8888888888888888,
             "#fdca26"
            ],
            [
             1,
             "#f0f921"
            ]
           ]
          },
          "colorway": [
           "#636efa",
           "#EF553B",
           "#00cc96",
           "#ab63fa",
           "#FFA15A",
           "#19d3f3",
           "#FF6692",
           "#B6E880",
           "#FF97FF",
           "#FECB52"
          ],
          "font": {
           "color": "#2a3f5f"
          },
          "geo": {
           "bgcolor": "white",
           "lakecolor": "white",
           "landcolor": "#E5ECF6",
           "showlakes": true,
           "showland": true,
           "subunitcolor": "white"
          },
          "hoverlabel": {
           "align": "left"
          },
          "hovermode": "closest",
          "mapbox": {
           "style": "light"
          },
          "paper_bgcolor": "white",
          "plot_bgcolor": "#E5ECF6",
          "polar": {
           "angularaxis": {
            "gridcolor": "white",
            "linecolor": "white",
            "ticks": ""
           },
           "bgcolor": "#E5ECF6",
           "radialaxis": {
            "gridcolor": "white",
            "linecolor": "white",
            "ticks": ""
           }
          },
          "scene": {
           "xaxis": {
            "backgroundcolor": "#E5ECF6",
            "gridcolor": "white",
            "gridwidth": 2,
            "linecolor": "white",
            "showbackground": true,
            "ticks": "",
            "zerolinecolor": "white"
           },
           "yaxis": {
            "backgroundcolor": "#E5ECF6",
            "gridcolor": "white",
            "gridwidth": 2,
            "linecolor": "white",
            "showbackground": true,
            "ticks": "",
            "zerolinecolor": "white"
           },
           "zaxis": {
            "backgroundcolor": "#E5ECF6",
            "gridcolor": "white",
            "gridwidth": 2,
            "linecolor": "white",
            "showbackground": true,
            "ticks": "",
            "zerolinecolor": "white"
           }
          },
          "shapedefaults": {
           "line": {
            "color": "#2a3f5f"
           }
          },
          "ternary": {
           "aaxis": {
            "gridcolor": "white",
            "linecolor": "white",
            "ticks": ""
           },
           "baxis": {
            "gridcolor": "white",
            "linecolor": "white",
            "ticks": ""
           },
           "bgcolor": "#E5ECF6",
           "caxis": {
            "gridcolor": "white",
            "linecolor": "white",
            "ticks": ""
           }
          },
          "title": {
           "x": 0.05
          },
          "xaxis": {
           "automargin": true,
           "gridcolor": "white",
           "linecolor": "white",
           "ticks": "",
           "title": {
            "standoff": 15
           },
           "zerolinecolor": "white",
           "zerolinewidth": 2
          },
          "yaxis": {
           "automargin": true,
           "gridcolor": "white",
           "linecolor": "white",
           "ticks": "",
           "title": {
            "standoff": 15
           },
           "zerolinecolor": "white",
           "zerolinewidth": 2
          }
         }
        },
        "title": {
         "text": "The number of goods sold on a monthly basis"
        },
        "xaxis": {
         "anchor": "y",
         "domain": [
          0,
          1
         ],
         "title": {
          "text": "Time"
         }
        },
        "yaxis": {
         "anchor": "x",
         "domain": [
          0,
          1
         ],
         "title": {
          "text": "Sales"
         }
        }
       }
      },
      "text/html": [
       "<div>                            <div id=\"156461ad-eb74-40a3-bc24-987144f01ffe\" class=\"plotly-graph-div\" style=\"height:525px; width:100%;\"></div>            <script type=\"text/javascript\">                require([\"plotly\"], function(Plotly) {                    window.PLOTLYENV=window.PLOTLYENV || {};                                    if (document.getElementById(\"156461ad-eb74-40a3-bc24-987144f01ffe\")) {                    Plotly.newPlot(                        \"156461ad-eb74-40a3-bc24-987144f01ffe\",                        [{\"hovertemplate\": \"number_of_month=%{x}<br>item_cnt=%{y}<extra></extra>\", \"legendgroup\": \"\", \"line\": {\"color\": \"#636efa\", \"dash\": \"solid\"}, \"mode\": \"lines\", \"name\": \"\", \"orientation\": \"v\", \"showlegend\": false, \"type\": \"scatter\", \"x\": [0, 1, 2, 3, 4, 5, 6, 7, 8, 9, 10, 11, 12, 13, 14, 15, 16, 17, 18, 19, 20, 21, 22, 23, 24, 25, 26, 27, 28, 29, 30, 31, 32, 33], \"xaxis\": \"x\", \"y\": [131849.0, 128382.0, 147438.0, 107439.0, 107147.0, 125583.0, 117165.0, 125586.0, 133551.0, 127815.0, 130270.0, 183670.0, 117243.0, 109974.0, 115500.0, 96744.0, 97937.0, 97623.0, 91504.0, 102910.0, 99427.0, 107623.0, 118050.0, 169054.0, 111299.0, 84419.0, 82233.0, 77948.0, 72435.0, 64237.0, 63316.0, 66196.0, 72989.0, 71184.0], \"yaxis\": \"y\"}],                        {\"legend\": {\"tracegroupgap\": 0}, \"margin\": {\"t\": 60}, \"template\": {\"data\": {\"bar\": [{\"error_x\": {\"color\": \"#2a3f5f\"}, \"error_y\": {\"color\": \"#2a3f5f\"}, \"marker\": {\"line\": {\"color\": \"#E5ECF6\", \"width\": 0.5}}, \"type\": \"bar\"}], \"barpolar\": [{\"marker\": {\"line\": {\"color\": \"#E5ECF6\", \"width\": 0.5}}, \"type\": \"barpolar\"}], \"carpet\": [{\"aaxis\": {\"endlinecolor\": \"#2a3f5f\", \"gridcolor\": \"white\", \"linecolor\": \"white\", \"minorgridcolor\": \"white\", \"startlinecolor\": \"#2a3f5f\"}, \"baxis\": {\"endlinecolor\": \"#2a3f5f\", \"gridcolor\": \"white\", \"linecolor\": \"white\", \"minorgridcolor\": \"white\", \"startlinecolor\": \"#2a3f5f\"}, \"type\": \"carpet\"}], \"choropleth\": [{\"colorbar\": {\"outlinewidth\": 0, \"ticks\": \"\"}, \"type\": \"choropleth\"}], \"contour\": [{\"colorbar\": {\"outlinewidth\": 0, \"ticks\": \"\"}, \"colorscale\": [[0.0, \"#0d0887\"], [0.1111111111111111, \"#46039f\"], [0.2222222222222222, \"#7201a8\"], [0.3333333333333333, \"#9c179e\"], [0.4444444444444444, \"#bd3786\"], [0.5555555555555556, \"#d8576b\"], [0.6666666666666666, \"#ed7953\"], [0.7777777777777778, \"#fb9f3a\"], [0.8888888888888888, \"#fdca26\"], [1.0, \"#f0f921\"]], \"type\": \"contour\"}], \"contourcarpet\": [{\"colorbar\": {\"outlinewidth\": 0, \"ticks\": \"\"}, \"type\": \"contourcarpet\"}], \"heatmap\": [{\"colorbar\": {\"outlinewidth\": 0, \"ticks\": \"\"}, \"colorscale\": [[0.0, \"#0d0887\"], [0.1111111111111111, \"#46039f\"], [0.2222222222222222, \"#7201a8\"], [0.3333333333333333, \"#9c179e\"], [0.4444444444444444, \"#bd3786\"], [0.5555555555555556, \"#d8576b\"], [0.6666666666666666, \"#ed7953\"], [0.7777777777777778, \"#fb9f3a\"], [0.8888888888888888, \"#fdca26\"], [1.0, \"#f0f921\"]], \"type\": \"heatmap\"}], \"heatmapgl\": [{\"colorbar\": {\"outlinewidth\": 0, \"ticks\": \"\"}, \"colorscale\": [[0.0, \"#0d0887\"], [0.1111111111111111, \"#46039f\"], [0.2222222222222222, \"#7201a8\"], [0.3333333333333333, \"#9c179e\"], [0.4444444444444444, \"#bd3786\"], [0.5555555555555556, \"#d8576b\"], [0.6666666666666666, \"#ed7953\"], [0.7777777777777778, \"#fb9f3a\"], [0.8888888888888888, \"#fdca26\"], [1.0, \"#f0f921\"]], \"type\": \"heatmapgl\"}], \"histogram\": [{\"marker\": {\"colorbar\": {\"outlinewidth\": 0, \"ticks\": \"\"}}, \"type\": \"histogram\"}], \"histogram2d\": [{\"colorbar\": {\"outlinewidth\": 0, \"ticks\": \"\"}, \"colorscale\": [[0.0, \"#0d0887\"], [0.1111111111111111, \"#46039f\"], [0.2222222222222222, \"#7201a8\"], [0.3333333333333333, \"#9c179e\"], [0.4444444444444444, \"#bd3786\"], [0.5555555555555556, \"#d8576b\"], [0.6666666666666666, \"#ed7953\"], [0.7777777777777778, \"#fb9f3a\"], [0.8888888888888888, \"#fdca26\"], [1.0, \"#f0f921\"]], \"type\": \"histogram2d\"}], \"histogram2dcontour\": [{\"colorbar\": {\"outlinewidth\": 0, \"ticks\": \"\"}, \"colorscale\": [[0.0, \"#0d0887\"], [0.1111111111111111, \"#46039f\"], [0.2222222222222222, \"#7201a8\"], [0.3333333333333333, \"#9c179e\"], [0.4444444444444444, \"#bd3786\"], [0.5555555555555556, \"#d8576b\"], [0.6666666666666666, \"#ed7953\"], [0.7777777777777778, \"#fb9f3a\"], [0.8888888888888888, \"#fdca26\"], [1.0, \"#f0f921\"]], \"type\": \"histogram2dcontour\"}], \"mesh3d\": [{\"colorbar\": {\"outlinewidth\": 0, \"ticks\": \"\"}, \"type\": \"mesh3d\"}], \"parcoords\": [{\"line\": {\"colorbar\": {\"outlinewidth\": 0, \"ticks\": \"\"}}, \"type\": \"parcoords\"}], \"pie\": [{\"automargin\": true, \"type\": \"pie\"}], \"scatter\": [{\"marker\": {\"colorbar\": {\"outlinewidth\": 0, \"ticks\": \"\"}}, \"type\": \"scatter\"}], \"scatter3d\": [{\"line\": {\"colorbar\": {\"outlinewidth\": 0, \"ticks\": \"\"}}, \"marker\": {\"colorbar\": {\"outlinewidth\": 0, \"ticks\": \"\"}}, \"type\": \"scatter3d\"}], \"scattercarpet\": [{\"marker\": {\"colorbar\": {\"outlinewidth\": 0, \"ticks\": \"\"}}, \"type\": \"scattercarpet\"}], \"scattergeo\": [{\"marker\": {\"colorbar\": {\"outlinewidth\": 0, \"ticks\": \"\"}}, \"type\": \"scattergeo\"}], \"scattergl\": [{\"marker\": {\"colorbar\": {\"outlinewidth\": 0, \"ticks\": \"\"}}, \"type\": \"scattergl\"}], \"scattermapbox\": [{\"marker\": {\"colorbar\": {\"outlinewidth\": 0, \"ticks\": \"\"}}, \"type\": \"scattermapbox\"}], \"scatterpolar\": [{\"marker\": {\"colorbar\": {\"outlinewidth\": 0, \"ticks\": \"\"}}, \"type\": \"scatterpolar\"}], \"scatterpolargl\": [{\"marker\": {\"colorbar\": {\"outlinewidth\": 0, \"ticks\": \"\"}}, \"type\": \"scatterpolargl\"}], \"scatterternary\": [{\"marker\": {\"colorbar\": {\"outlinewidth\": 0, \"ticks\": \"\"}}, \"type\": \"scatterternary\"}], \"surface\": [{\"colorbar\": {\"outlinewidth\": 0, \"ticks\": \"\"}, \"colorscale\": [[0.0, \"#0d0887\"], [0.1111111111111111, \"#46039f\"], [0.2222222222222222, \"#7201a8\"], [0.3333333333333333, \"#9c179e\"], [0.4444444444444444, \"#bd3786\"], [0.5555555555555556, \"#d8576b\"], [0.6666666666666666, \"#ed7953\"], [0.7777777777777778, \"#fb9f3a\"], [0.8888888888888888, \"#fdca26\"], [1.0, \"#f0f921\"]], \"type\": \"surface\"}], \"table\": [{\"cells\": {\"fill\": {\"color\": \"#EBF0F8\"}, \"line\": {\"color\": \"white\"}}, \"header\": {\"fill\": {\"color\": \"#C8D4E3\"}, \"line\": {\"color\": \"white\"}}, \"type\": \"table\"}]}, \"layout\": {\"annotationdefaults\": {\"arrowcolor\": \"#2a3f5f\", \"arrowhead\": 0, \"arrowwidth\": 1}, \"autotypenumbers\": \"strict\", \"coloraxis\": {\"colorbar\": {\"outlinewidth\": 0, \"ticks\": \"\"}}, \"colorscale\": {\"diverging\": [[0, \"#8e0152\"], [0.1, \"#c51b7d\"], [0.2, \"#de77ae\"], [0.3, \"#f1b6da\"], [0.4, \"#fde0ef\"], [0.5, \"#f7f7f7\"], [0.6, \"#e6f5d0\"], [0.7, \"#b8e186\"], [0.8, \"#7fbc41\"], [0.9, \"#4d9221\"], [1, \"#276419\"]], \"sequential\": [[0.0, \"#0d0887\"], [0.1111111111111111, \"#46039f\"], [0.2222222222222222, \"#7201a8\"], [0.3333333333333333, \"#9c179e\"], [0.4444444444444444, \"#bd3786\"], [0.5555555555555556, \"#d8576b\"], [0.6666666666666666, \"#ed7953\"], [0.7777777777777778, \"#fb9f3a\"], [0.8888888888888888, \"#fdca26\"], [1.0, \"#f0f921\"]], \"sequentialminus\": [[0.0, \"#0d0887\"], [0.1111111111111111, \"#46039f\"], [0.2222222222222222, \"#7201a8\"], [0.3333333333333333, \"#9c179e\"], [0.4444444444444444, \"#bd3786\"], [0.5555555555555556, \"#d8576b\"], [0.6666666666666666, \"#ed7953\"], [0.7777777777777778, \"#fb9f3a\"], [0.8888888888888888, \"#fdca26\"], [1.0, \"#f0f921\"]]}, \"colorway\": [\"#636efa\", \"#EF553B\", \"#00cc96\", \"#ab63fa\", \"#FFA15A\", \"#19d3f3\", \"#FF6692\", \"#B6E880\", \"#FF97FF\", \"#FECB52\"], \"font\": {\"color\": \"#2a3f5f\"}, \"geo\": {\"bgcolor\": \"white\", \"lakecolor\": \"white\", \"landcolor\": \"#E5ECF6\", \"showlakes\": true, \"showland\": true, \"subunitcolor\": \"white\"}, \"hoverlabel\": {\"align\": \"left\"}, \"hovermode\": \"closest\", \"mapbox\": {\"style\": \"light\"}, \"paper_bgcolor\": \"white\", \"plot_bgcolor\": \"#E5ECF6\", \"polar\": {\"angularaxis\": {\"gridcolor\": \"white\", \"linecolor\": \"white\", \"ticks\": \"\"}, \"bgcolor\": \"#E5ECF6\", \"radialaxis\": {\"gridcolor\": \"white\", \"linecolor\": \"white\", \"ticks\": \"\"}}, \"scene\": {\"xaxis\": {\"backgroundcolor\": \"#E5ECF6\", \"gridcolor\": \"white\", \"gridwidth\": 2, \"linecolor\": \"white\", \"showbackground\": true, \"ticks\": \"\", \"zerolinecolor\": \"white\"}, \"yaxis\": {\"backgroundcolor\": \"#E5ECF6\", \"gridcolor\": \"white\", \"gridwidth\": 2, \"linecolor\": \"white\", \"showbackground\": true, \"ticks\": \"\", \"zerolinecolor\": \"white\"}, \"zaxis\": {\"backgroundcolor\": \"#E5ECF6\", \"gridcolor\": \"white\", \"gridwidth\": 2, \"linecolor\": \"white\", \"showbackground\": true, \"ticks\": \"\", \"zerolinecolor\": \"white\"}}, \"shapedefaults\": {\"line\": {\"color\": \"#2a3f5f\"}}, \"ternary\": {\"aaxis\": {\"gridcolor\": \"white\", \"linecolor\": \"white\", \"ticks\": \"\"}, \"baxis\": {\"gridcolor\": \"white\", \"linecolor\": \"white\", \"ticks\": \"\"}, \"bgcolor\": \"#E5ECF6\", \"caxis\": {\"gridcolor\": \"white\", \"linecolor\": \"white\", \"ticks\": \"\"}}, \"title\": {\"x\": 0.05}, \"xaxis\": {\"automargin\": true, \"gridcolor\": \"white\", \"linecolor\": \"white\", \"ticks\": \"\", \"title\": {\"standoff\": 15}, \"zerolinecolor\": \"white\", \"zerolinewidth\": 2}, \"yaxis\": {\"automargin\": true, \"gridcolor\": \"white\", \"linecolor\": \"white\", \"ticks\": \"\", \"title\": {\"standoff\": 15}, \"zerolinecolor\": \"white\", \"zerolinewidth\": 2}}}, \"title\": {\"text\": \"The number of goods sold on a monthly basis\"}, \"xaxis\": {\"anchor\": \"y\", \"domain\": [0.0, 1.0], \"title\": {\"text\": \"Time\"}}, \"yaxis\": {\"anchor\": \"x\", \"domain\": [0.0, 1.0], \"title\": {\"text\": \"Sales\"}}},                        {\"responsive\": true}                    ).then(function(){\n",
       "                            \n",
       "var gd = document.getElementById('156461ad-eb74-40a3-bc24-987144f01ffe');\n",
       "var x = new MutationObserver(function (mutations, observer) {{\n",
       "        var display = window.getComputedStyle(gd).display;\n",
       "        if (!display || display === 'none') {{\n",
       "            console.log([gd, 'removed!']);\n",
       "            Plotly.purge(gd);\n",
       "            observer.disconnect();\n",
       "        }}\n",
       "}});\n",
       "\n",
       "// Listen for the removal of the full notebook cells\n",
       "var notebookContainer = gd.closest('#notebook-container');\n",
       "if (notebookContainer) {{\n",
       "    x.observe(notebookContainer, {childList: true});\n",
       "}}\n",
       "\n",
       "// Listen for the clearing of the current output cell\n",
       "var outputEl = gd.closest('.output');\n",
       "if (outputEl) {{\n",
       "    x.observe(outputEl, {childList: true});\n",
       "}}\n",
       "\n",
       "                        })                };                });            </script>        </div>"
      ]
     },
     "metadata": {},
     "output_type": "display_data"
    }
   ],
   "source": [
    "df_cnt_item = df.groupby('date_block_num').agg({'item_cnt_day':'sum'}).reset_index().rename(columns={'date_block_num':'number_of_month', 'item_cnt_day':'item_cnt'})\n",
    "fig = px.line(df_cnt_item, x=\"number_of_month\", y=\"item_cnt\")\n",
    "fig.update_layout(\n",
    "    title='The number of goods sold on a monthly basis',\n",
    "    xaxis_title='Time',\n",
    "    yaxis_title='Sales')\n",
    "fig.show()"
   ]
  },
  {
   "cell_type": "markdown",
   "id": "seeing-completion",
   "metadata": {
    "papermill": {
     "duration": 0.038093,
     "end_time": "2021-05-11T10:43:39.987407",
     "exception": false,
     "start_time": "2021-05-11T10:43:39.949314",
     "status": "completed"
    },
    "tags": []
   },
   "source": [
    "In the graph we see two sales peaks - in December 2013 (183. thousand) and December 2014 (169. thousand) . This is the time when people make the most purchases for New Year's Eve gifts."
   ]
  },
  {
   "cell_type": "code",
   "execution_count": 18,
   "id": "processed-appearance",
   "metadata": {
    "execution": {
     "iopub.execute_input": "2021-05-11T10:43:40.074494Z",
     "iopub.status.busy": "2021-05-11T10:43:40.072909Z",
     "iopub.status.idle": "2021-05-11T10:43:40.080511Z",
     "shell.execute_reply": "2021-05-11T10:43:40.079859Z"
    },
    "papermill": {
     "duration": 0.054947,
     "end_time": "2021-05-11T10:43:40.080655",
     "exception": false,
     "start_time": "2021-05-11T10:43:40.025708",
     "status": "completed"
    },
    "tags": []
   },
   "outputs": [],
   "source": [
    "df['sum_price'] = df.item_price * df.item_cnt_day"
   ]
  },
  {
   "cell_type": "code",
   "execution_count": 19,
   "id": "motivated-comment",
   "metadata": {
    "execution": {
     "iopub.execute_input": "2021-05-11T10:43:40.167785Z",
     "iopub.status.busy": "2021-05-11T10:43:40.166377Z",
     "iopub.status.idle": "2021-05-11T10:43:40.296358Z",
     "shell.execute_reply": "2021-05-11T10:43:40.295645Z"
    },
    "papermill": {
     "duration": 0.176881,
     "end_time": "2021-05-11T10:43:40.296504",
     "exception": false,
     "start_time": "2021-05-11T10:43:40.119623",
     "status": "completed"
    },
    "tags": []
   },
   "outputs": [
    {
     "data": {
      "application/vnd.plotly.v1+json": {
       "config": {
        "plotlyServerURL": "https://plot.ly"
       },
       "data": [
        {
         "hovertemplate": "number_of_month=%{x}<br>total_sales=%{y}<extra></extra>",
         "legendgroup": "",
         "line": {
          "color": "#636efa",
          "dash": "solid"
         },
         "mode": "lines",
         "name": "",
         "orientation": "v",
         "showlegend": false,
         "type": "scatter",
         "x": [
          0,
          1,
          2,
          3,
          4,
          5,
          6,
          7,
          8,
          9,
          10,
          11,
          12,
          13,
          14,
          15,
          16,
          17,
          18,
          19,
          20,
          21,
          22,
          23,
          24,
          25,
          26,
          27,
          28,
          29,
          30,
          31,
          32,
          33
         ],
         "xaxis": "x",
         "y": [
          92398944,
          90964488,
          105265368,
          69457128,
          65253168,
          79762496,
          69534520,
          74586984,
          119318000,
          107595840,
          138967584,
          208038800,
          98784448,
          107847064,
          109505632,
          80931792,
          91441112,
          82921344,
          76814440,
          89862280,
          115063720,
          112820840,
          152413440,
          232614928,
          119453368,
          86959680,
          86877056,
          90498952,
          88834944,
          65631300,
          59685692,
          61930864,
          93185040,
          84630168
         ],
         "yaxis": "y"
        }
       ],
       "layout": {
        "legend": {
         "tracegroupgap": 0
        },
        "margin": {
         "t": 60
        },
        "template": {
         "data": {
          "bar": [
           {
            "error_x": {
             "color": "#2a3f5f"
            },
            "error_y": {
             "color": "#2a3f5f"
            },
            "marker": {
             "line": {
              "color": "#E5ECF6",
              "width": 0.5
             }
            },
            "type": "bar"
           }
          ],
          "barpolar": [
           {
            "marker": {
             "line": {
              "color": "#E5ECF6",
              "width": 0.5
             }
            },
            "type": "barpolar"
           }
          ],
          "carpet": [
           {
            "aaxis": {
             "endlinecolor": "#2a3f5f",
             "gridcolor": "white",
             "linecolor": "white",
             "minorgridcolor": "white",
             "startlinecolor": "#2a3f5f"
            },
            "baxis": {
             "endlinecolor": "#2a3f5f",
             "gridcolor": "white",
             "linecolor": "white",
             "minorgridcolor": "white",
             "startlinecolor": "#2a3f5f"
            },
            "type": "carpet"
           }
          ],
          "choropleth": [
           {
            "colorbar": {
             "outlinewidth": 0,
             "ticks": ""
            },
            "type": "choropleth"
           }
          ],
          "contour": [
           {
            "colorbar": {
             "outlinewidth": 0,
             "ticks": ""
            },
            "colorscale": [
             [
              0,
              "#0d0887"
             ],
             [
              0.1111111111111111,
              "#46039f"
             ],
             [
              0.2222222222222222,
              "#7201a8"
             ],
             [
              0.3333333333333333,
              "#9c179e"
             ],
             [
              0.4444444444444444,
              "#bd3786"
             ],
             [
              0.5555555555555556,
              "#d8576b"
             ],
             [
              0.6666666666666666,
              "#ed7953"
             ],
             [
              0.7777777777777778,
              "#fb9f3a"
             ],
             [
              0.8888888888888888,
              "#fdca26"
             ],
             [
              1,
              "#f0f921"
             ]
            ],
            "type": "contour"
           }
          ],
          "contourcarpet": [
           {
            "colorbar": {
             "outlinewidth": 0,
             "ticks": ""
            },
            "type": "contourcarpet"
           }
          ],
          "heatmap": [
           {
            "colorbar": {
             "outlinewidth": 0,
             "ticks": ""
            },
            "colorscale": [
             [
              0,
              "#0d0887"
             ],
             [
              0.1111111111111111,
              "#46039f"
             ],
             [
              0.2222222222222222,
              "#7201a8"
             ],
             [
              0.3333333333333333,
              "#9c179e"
             ],
             [
              0.4444444444444444,
              "#bd3786"
             ],
             [
              0.5555555555555556,
              "#d8576b"
             ],
             [
              0.6666666666666666,
              "#ed7953"
             ],
             [
              0.7777777777777778,
              "#fb9f3a"
             ],
             [
              0.8888888888888888,
              "#fdca26"
             ],
             [
              1,
              "#f0f921"
             ]
            ],
            "type": "heatmap"
           }
          ],
          "heatmapgl": [
           {
            "colorbar": {
             "outlinewidth": 0,
             "ticks": ""
            },
            "colorscale": [
             [
              0,
              "#0d0887"
             ],
             [
              0.1111111111111111,
              "#46039f"
             ],
             [
              0.2222222222222222,
              "#7201a8"
             ],
             [
              0.3333333333333333,
              "#9c179e"
             ],
             [
              0.4444444444444444,
              "#bd3786"
             ],
             [
              0.5555555555555556,
              "#d8576b"
             ],
             [
              0.6666666666666666,
              "#ed7953"
             ],
             [
              0.7777777777777778,
              "#fb9f3a"
             ],
             [
              0.8888888888888888,
              "#fdca26"
             ],
             [
              1,
              "#f0f921"
             ]
            ],
            "type": "heatmapgl"
           }
          ],
          "histogram": [
           {
            "marker": {
             "colorbar": {
              "outlinewidth": 0,
              "ticks": ""
             }
            },
            "type": "histogram"
           }
          ],
          "histogram2d": [
           {
            "colorbar": {
             "outlinewidth": 0,
             "ticks": ""
            },
            "colorscale": [
             [
              0,
              "#0d0887"
             ],
             [
              0.1111111111111111,
              "#46039f"
             ],
             [
              0.2222222222222222,
              "#7201a8"
             ],
             [
              0.3333333333333333,
              "#9c179e"
             ],
             [
              0.4444444444444444,
              "#bd3786"
             ],
             [
              0.5555555555555556,
              "#d8576b"
             ],
             [
              0.6666666666666666,
              "#ed7953"
             ],
             [
              0.7777777777777778,
              "#fb9f3a"
             ],
             [
              0.8888888888888888,
              "#fdca26"
             ],
             [
              1,
              "#f0f921"
             ]
            ],
            "type": "histogram2d"
           }
          ],
          "histogram2dcontour": [
           {
            "colorbar": {
             "outlinewidth": 0,
             "ticks": ""
            },
            "colorscale": [
             [
              0,
              "#0d0887"
             ],
             [
              0.1111111111111111,
              "#46039f"
             ],
             [
              0.2222222222222222,
              "#7201a8"
             ],
             [
              0.3333333333333333,
              "#9c179e"
             ],
             [
              0.4444444444444444,
              "#bd3786"
             ],
             [
              0.5555555555555556,
              "#d8576b"
             ],
             [
              0.6666666666666666,
              "#ed7953"
             ],
             [
              0.7777777777777778,
              "#fb9f3a"
             ],
             [
              0.8888888888888888,
              "#fdca26"
             ],
             [
              1,
              "#f0f921"
             ]
            ],
            "type": "histogram2dcontour"
           }
          ],
          "mesh3d": [
           {
            "colorbar": {
             "outlinewidth": 0,
             "ticks": ""
            },
            "type": "mesh3d"
           }
          ],
          "parcoords": [
           {
            "line": {
             "colorbar": {
              "outlinewidth": 0,
              "ticks": ""
             }
            },
            "type": "parcoords"
           }
          ],
          "pie": [
           {
            "automargin": true,
            "type": "pie"
           }
          ],
          "scatter": [
           {
            "marker": {
             "colorbar": {
              "outlinewidth": 0,
              "ticks": ""
             }
            },
            "type": "scatter"
           }
          ],
          "scatter3d": [
           {
            "line": {
             "colorbar": {
              "outlinewidth": 0,
              "ticks": ""
             }
            },
            "marker": {
             "colorbar": {
              "outlinewidth": 0,
              "ticks": ""
             }
            },
            "type": "scatter3d"
           }
          ],
          "scattercarpet": [
           {
            "marker": {
             "colorbar": {
              "outlinewidth": 0,
              "ticks": ""
             }
            },
            "type": "scattercarpet"
           }
          ],
          "scattergeo": [
           {
            "marker": {
             "colorbar": {
              "outlinewidth": 0,
              "ticks": ""
             }
            },
            "type": "scattergeo"
           }
          ],
          "scattergl": [
           {
            "marker": {
             "colorbar": {
              "outlinewidth": 0,
              "ticks": ""
             }
            },
            "type": "scattergl"
           }
          ],
          "scattermapbox": [
           {
            "marker": {
             "colorbar": {
              "outlinewidth": 0,
              "ticks": ""
             }
            },
            "type": "scattermapbox"
           }
          ],
          "scatterpolar": [
           {
            "marker": {
             "colorbar": {
              "outlinewidth": 0,
              "ticks": ""
             }
            },
            "type": "scatterpolar"
           }
          ],
          "scatterpolargl": [
           {
            "marker": {
             "colorbar": {
              "outlinewidth": 0,
              "ticks": ""
             }
            },
            "type": "scatterpolargl"
           }
          ],
          "scatterternary": [
           {
            "marker": {
             "colorbar": {
              "outlinewidth": 0,
              "ticks": ""
             }
            },
            "type": "scatterternary"
           }
          ],
          "surface": [
           {
            "colorbar": {
             "outlinewidth": 0,
             "ticks": ""
            },
            "colorscale": [
             [
              0,
              "#0d0887"
             ],
             [
              0.1111111111111111,
              "#46039f"
             ],
             [
              0.2222222222222222,
              "#7201a8"
             ],
             [
              0.3333333333333333,
              "#9c179e"
             ],
             [
              0.4444444444444444,
              "#bd3786"
             ],
             [
              0.5555555555555556,
              "#d8576b"
             ],
             [
              0.6666666666666666,
              "#ed7953"
             ],
             [
              0.7777777777777778,
              "#fb9f3a"
             ],
             [
              0.8888888888888888,
              "#fdca26"
             ],
             [
              1,
              "#f0f921"
             ]
            ],
            "type": "surface"
           }
          ],
          "table": [
           {
            "cells": {
             "fill": {
              "color": "#EBF0F8"
             },
             "line": {
              "color": "white"
             }
            },
            "header": {
             "fill": {
              "color": "#C8D4E3"
             },
             "line": {
              "color": "white"
             }
            },
            "type": "table"
           }
          ]
         },
         "layout": {
          "annotationdefaults": {
           "arrowcolor": "#2a3f5f",
           "arrowhead": 0,
           "arrowwidth": 1
          },
          "autotypenumbers": "strict",
          "coloraxis": {
           "colorbar": {
            "outlinewidth": 0,
            "ticks": ""
           }
          },
          "colorscale": {
           "diverging": [
            [
             0,
             "#8e0152"
            ],
            [
             0.1,
             "#c51b7d"
            ],
            [
             0.2,
             "#de77ae"
            ],
            [
             0.3,
             "#f1b6da"
            ],
            [
             0.4,
             "#fde0ef"
            ],
            [
             0.5,
             "#f7f7f7"
            ],
            [
             0.6,
             "#e6f5d0"
            ],
            [
             0.7,
             "#b8e186"
            ],
            [
             0.8,
             "#7fbc41"
            ],
            [
             0.9,
             "#4d9221"
            ],
            [
             1,
             "#276419"
            ]
           ],
           "sequential": [
            [
             0,
             "#0d0887"
            ],
            [
             0.1111111111111111,
             "#46039f"
            ],
            [
             0.2222222222222222,
             "#7201a8"
            ],
            [
             0.3333333333333333,
             "#9c179e"
            ],
            [
             0.4444444444444444,
             "#bd3786"
            ],
            [
             0.5555555555555556,
             "#d8576b"
            ],
            [
             0.6666666666666666,
             "#ed7953"
            ],
            [
             0.7777777777777778,
             "#fb9f3a"
            ],
            [
             0.8888888888888888,
             "#fdca26"
            ],
            [
             1,
             "#f0f921"
            ]
           ],
           "sequentialminus": [
            [
             0,
             "#0d0887"
            ],
            [
             0.1111111111111111,
             "#46039f"
            ],
            [
             0.2222222222222222,
             "#7201a8"
            ],
            [
             0.3333333333333333,
             "#9c179e"
            ],
            [
             0.4444444444444444,
             "#bd3786"
            ],
            [
             0.5555555555555556,
             "#d8576b"
            ],
            [
             0.6666666666666666,
             "#ed7953"
            ],
            [
             0.7777777777777778,
             "#fb9f3a"
            ],
            [
             0.8888888888888888,
             "#fdca26"
            ],
            [
             1,
             "#f0f921"
            ]
           ]
          },
          "colorway": [
           "#636efa",
           "#EF553B",
           "#00cc96",
           "#ab63fa",
           "#FFA15A",
           "#19d3f3",
           "#FF6692",
           "#B6E880",
           "#FF97FF",
           "#FECB52"
          ],
          "font": {
           "color": "#2a3f5f"
          },
          "geo": {
           "bgcolor": "white",
           "lakecolor": "white",
           "landcolor": "#E5ECF6",
           "showlakes": true,
           "showland": true,
           "subunitcolor": "white"
          },
          "hoverlabel": {
           "align": "left"
          },
          "hovermode": "closest",
          "mapbox": {
           "style": "light"
          },
          "paper_bgcolor": "white",
          "plot_bgcolor": "#E5ECF6",
          "polar": {
           "angularaxis": {
            "gridcolor": "white",
            "linecolor": "white",
            "ticks": ""
           },
           "bgcolor": "#E5ECF6",
           "radialaxis": {
            "gridcolor": "white",
            "linecolor": "white",
            "ticks": ""
           }
          },
          "scene": {
           "xaxis": {
            "backgroundcolor": "#E5ECF6",
            "gridcolor": "white",
            "gridwidth": 2,
            "linecolor": "white",
            "showbackground": true,
            "ticks": "",
            "zerolinecolor": "white"
           },
           "yaxis": {
            "backgroundcolor": "#E5ECF6",
            "gridcolor": "white",
            "gridwidth": 2,
            "linecolor": "white",
            "showbackground": true,
            "ticks": "",
            "zerolinecolor": "white"
           },
           "zaxis": {
            "backgroundcolor": "#E5ECF6",
            "gridcolor": "white",
            "gridwidth": 2,
            "linecolor": "white",
            "showbackground": true,
            "ticks": "",
            "zerolinecolor": "white"
           }
          },
          "shapedefaults": {
           "line": {
            "color": "#2a3f5f"
           }
          },
          "ternary": {
           "aaxis": {
            "gridcolor": "white",
            "linecolor": "white",
            "ticks": ""
           },
           "baxis": {
            "gridcolor": "white",
            "linecolor": "white",
            "ticks": ""
           },
           "bgcolor": "#E5ECF6",
           "caxis": {
            "gridcolor": "white",
            "linecolor": "white",
            "ticks": ""
           }
          },
          "title": {
           "x": 0.05
          },
          "xaxis": {
           "automargin": true,
           "gridcolor": "white",
           "linecolor": "white",
           "ticks": "",
           "title": {
            "standoff": 15
           },
           "zerolinecolor": "white",
           "zerolinewidth": 2
          },
          "yaxis": {
           "automargin": true,
           "gridcolor": "white",
           "linecolor": "white",
           "ticks": "",
           "title": {
            "standoff": 15
           },
           "zerolinecolor": "white",
           "zerolinewidth": 2
          }
         }
        },
        "title": {
         "text": "Total Sales"
        },
        "xaxis": {
         "anchor": "y",
         "domain": [
          0,
          1
         ],
         "title": {
          "text": "Time"
         }
        },
        "yaxis": {
         "anchor": "x",
         "domain": [
          0,
          1
         ],
         "title": {
          "text": "Total prise"
         }
        }
       }
      },
      "text/html": [
       "<div>                            <div id=\"97edbb93-3fa7-4a5f-bd1b-17a9c61a7a3d\" class=\"plotly-graph-div\" style=\"height:525px; width:100%;\"></div>            <script type=\"text/javascript\">                require([\"plotly\"], function(Plotly) {                    window.PLOTLYENV=window.PLOTLYENV || {};                                    if (document.getElementById(\"97edbb93-3fa7-4a5f-bd1b-17a9c61a7a3d\")) {                    Plotly.newPlot(                        \"97edbb93-3fa7-4a5f-bd1b-17a9c61a7a3d\",                        [{\"hovertemplate\": \"number_of_month=%{x}<br>total_sales=%{y}<extra></extra>\", \"legendgroup\": \"\", \"line\": {\"color\": \"#636efa\", \"dash\": \"solid\"}, \"mode\": \"lines\", \"name\": \"\", \"orientation\": \"v\", \"showlegend\": false, \"type\": \"scatter\", \"x\": [0, 1, 2, 3, 4, 5, 6, 7, 8, 9, 10, 11, 12, 13, 14, 15, 16, 17, 18, 19, 20, 21, 22, 23, 24, 25, 26, 27, 28, 29, 30, 31, 32, 33], \"xaxis\": \"x\", \"y\": [92398944.0, 90964488.0, 105265368.0, 69457128.0, 65253168.0, 79762496.0, 69534520.0, 74586984.0, 119318000.0, 107595840.0, 138967584.0, 208038800.0, 98784448.0, 107847064.0, 109505632.0, 80931792.0, 91441112.0, 82921344.0, 76814440.0, 89862280.0, 115063720.0, 112820840.0, 152413440.0, 232614928.0, 119453368.0, 86959680.0, 86877056.0, 90498952.0, 88834944.0, 65631300.0, 59685692.0, 61930864.0, 93185040.0, 84630168.0], \"yaxis\": \"y\"}],                        {\"legend\": {\"tracegroupgap\": 0}, \"margin\": {\"t\": 60}, \"template\": {\"data\": {\"bar\": [{\"error_x\": {\"color\": \"#2a3f5f\"}, \"error_y\": {\"color\": \"#2a3f5f\"}, \"marker\": {\"line\": {\"color\": \"#E5ECF6\", \"width\": 0.5}}, \"type\": \"bar\"}], \"barpolar\": [{\"marker\": {\"line\": {\"color\": \"#E5ECF6\", \"width\": 0.5}}, \"type\": \"barpolar\"}], \"carpet\": [{\"aaxis\": {\"endlinecolor\": \"#2a3f5f\", \"gridcolor\": \"white\", \"linecolor\": \"white\", \"minorgridcolor\": \"white\", \"startlinecolor\": \"#2a3f5f\"}, \"baxis\": {\"endlinecolor\": \"#2a3f5f\", \"gridcolor\": \"white\", \"linecolor\": \"white\", \"minorgridcolor\": \"white\", \"startlinecolor\": \"#2a3f5f\"}, \"type\": \"carpet\"}], \"choropleth\": [{\"colorbar\": {\"outlinewidth\": 0, \"ticks\": \"\"}, \"type\": \"choropleth\"}], \"contour\": [{\"colorbar\": {\"outlinewidth\": 0, \"ticks\": \"\"}, \"colorscale\": [[0.0, \"#0d0887\"], [0.1111111111111111, \"#46039f\"], [0.2222222222222222, \"#7201a8\"], [0.3333333333333333, \"#9c179e\"], [0.4444444444444444, \"#bd3786\"], [0.5555555555555556, \"#d8576b\"], [0.6666666666666666, \"#ed7953\"], [0.7777777777777778, \"#fb9f3a\"], [0.8888888888888888, \"#fdca26\"], [1.0, \"#f0f921\"]], \"type\": \"contour\"}], \"contourcarpet\": [{\"colorbar\": {\"outlinewidth\": 0, \"ticks\": \"\"}, \"type\": \"contourcarpet\"}], \"heatmap\": [{\"colorbar\": {\"outlinewidth\": 0, \"ticks\": \"\"}, \"colorscale\": [[0.0, \"#0d0887\"], [0.1111111111111111, \"#46039f\"], [0.2222222222222222, \"#7201a8\"], [0.3333333333333333, \"#9c179e\"], [0.4444444444444444, \"#bd3786\"], [0.5555555555555556, \"#d8576b\"], [0.6666666666666666, \"#ed7953\"], [0.7777777777777778, \"#fb9f3a\"], [0.8888888888888888, \"#fdca26\"], [1.0, \"#f0f921\"]], \"type\": \"heatmap\"}], \"heatmapgl\": [{\"colorbar\": {\"outlinewidth\": 0, \"ticks\": \"\"}, \"colorscale\": [[0.0, \"#0d0887\"], [0.1111111111111111, \"#46039f\"], [0.2222222222222222, \"#7201a8\"], [0.3333333333333333, \"#9c179e\"], [0.4444444444444444, \"#bd3786\"], [0.5555555555555556, \"#d8576b\"], [0.6666666666666666, \"#ed7953\"], [0.7777777777777778, \"#fb9f3a\"], [0.8888888888888888, \"#fdca26\"], [1.0, \"#f0f921\"]], \"type\": \"heatmapgl\"}], \"histogram\": [{\"marker\": {\"colorbar\": {\"outlinewidth\": 0, \"ticks\": \"\"}}, \"type\": \"histogram\"}], \"histogram2d\": [{\"colorbar\": {\"outlinewidth\": 0, \"ticks\": \"\"}, \"colorscale\": [[0.0, \"#0d0887\"], [0.1111111111111111, \"#46039f\"], [0.2222222222222222, \"#7201a8\"], [0.3333333333333333, \"#9c179e\"], [0.4444444444444444, \"#bd3786\"], [0.5555555555555556, \"#d8576b\"], [0.6666666666666666, \"#ed7953\"], [0.7777777777777778, \"#fb9f3a\"], [0.8888888888888888, \"#fdca26\"], [1.0, \"#f0f921\"]], \"type\": \"histogram2d\"}], \"histogram2dcontour\": [{\"colorbar\": {\"outlinewidth\": 0, \"ticks\": \"\"}, \"colorscale\": [[0.0, \"#0d0887\"], [0.1111111111111111, \"#46039f\"], [0.2222222222222222, \"#7201a8\"], [0.3333333333333333, \"#9c179e\"], [0.4444444444444444, \"#bd3786\"], [0.5555555555555556, \"#d8576b\"], [0.6666666666666666, \"#ed7953\"], [0.7777777777777778, \"#fb9f3a\"], [0.8888888888888888, \"#fdca26\"], [1.0, \"#f0f921\"]], \"type\": \"histogram2dcontour\"}], \"mesh3d\": [{\"colorbar\": {\"outlinewidth\": 0, \"ticks\": \"\"}, \"type\": \"mesh3d\"}], \"parcoords\": [{\"line\": {\"colorbar\": {\"outlinewidth\": 0, \"ticks\": \"\"}}, \"type\": \"parcoords\"}], \"pie\": [{\"automargin\": true, \"type\": \"pie\"}], \"scatter\": [{\"marker\": {\"colorbar\": {\"outlinewidth\": 0, \"ticks\": \"\"}}, \"type\": \"scatter\"}], \"scatter3d\": [{\"line\": {\"colorbar\": {\"outlinewidth\": 0, \"ticks\": \"\"}}, \"marker\": {\"colorbar\": {\"outlinewidth\": 0, \"ticks\": \"\"}}, \"type\": \"scatter3d\"}], \"scattercarpet\": [{\"marker\": {\"colorbar\": {\"outlinewidth\": 0, \"ticks\": \"\"}}, \"type\": \"scattercarpet\"}], \"scattergeo\": [{\"marker\": {\"colorbar\": {\"outlinewidth\": 0, \"ticks\": \"\"}}, \"type\": \"scattergeo\"}], \"scattergl\": [{\"marker\": {\"colorbar\": {\"outlinewidth\": 0, \"ticks\": \"\"}}, \"type\": \"scattergl\"}], \"scattermapbox\": [{\"marker\": {\"colorbar\": {\"outlinewidth\": 0, \"ticks\": \"\"}}, \"type\": \"scattermapbox\"}], \"scatterpolar\": [{\"marker\": {\"colorbar\": {\"outlinewidth\": 0, \"ticks\": \"\"}}, \"type\": \"scatterpolar\"}], \"scatterpolargl\": [{\"marker\": {\"colorbar\": {\"outlinewidth\": 0, \"ticks\": \"\"}}, \"type\": \"scatterpolargl\"}], \"scatterternary\": [{\"marker\": {\"colorbar\": {\"outlinewidth\": 0, \"ticks\": \"\"}}, \"type\": \"scatterternary\"}], \"surface\": [{\"colorbar\": {\"outlinewidth\": 0, \"ticks\": \"\"}, \"colorscale\": [[0.0, \"#0d0887\"], [0.1111111111111111, \"#46039f\"], [0.2222222222222222, \"#7201a8\"], [0.3333333333333333, \"#9c179e\"], [0.4444444444444444, \"#bd3786\"], [0.5555555555555556, \"#d8576b\"], [0.6666666666666666, \"#ed7953\"], [0.7777777777777778, \"#fb9f3a\"], [0.8888888888888888, \"#fdca26\"], [1.0, \"#f0f921\"]], \"type\": \"surface\"}], \"table\": [{\"cells\": {\"fill\": {\"color\": \"#EBF0F8\"}, \"line\": {\"color\": \"white\"}}, \"header\": {\"fill\": {\"color\": \"#C8D4E3\"}, \"line\": {\"color\": \"white\"}}, \"type\": \"table\"}]}, \"layout\": {\"annotationdefaults\": {\"arrowcolor\": \"#2a3f5f\", \"arrowhead\": 0, \"arrowwidth\": 1}, \"autotypenumbers\": \"strict\", \"coloraxis\": {\"colorbar\": {\"outlinewidth\": 0, \"ticks\": \"\"}}, \"colorscale\": {\"diverging\": [[0, \"#8e0152\"], [0.1, \"#c51b7d\"], [0.2, \"#de77ae\"], [0.3, \"#f1b6da\"], [0.4, \"#fde0ef\"], [0.5, \"#f7f7f7\"], [0.6, \"#e6f5d0\"], [0.7, \"#b8e186\"], [0.8, \"#7fbc41\"], [0.9, \"#4d9221\"], [1, \"#276419\"]], \"sequential\": [[0.0, \"#0d0887\"], [0.1111111111111111, \"#46039f\"], [0.2222222222222222, \"#7201a8\"], [0.3333333333333333, \"#9c179e\"], [0.4444444444444444, \"#bd3786\"], [0.5555555555555556, \"#d8576b\"], [0.6666666666666666, \"#ed7953\"], [0.7777777777777778, \"#fb9f3a\"], [0.8888888888888888, \"#fdca26\"], [1.0, \"#f0f921\"]], \"sequentialminus\": [[0.0, \"#0d0887\"], [0.1111111111111111, \"#46039f\"], [0.2222222222222222, \"#7201a8\"], [0.3333333333333333, \"#9c179e\"], [0.4444444444444444, \"#bd3786\"], [0.5555555555555556, \"#d8576b\"], [0.6666666666666666, \"#ed7953\"], [0.7777777777777778, \"#fb9f3a\"], [0.8888888888888888, \"#fdca26\"], [1.0, \"#f0f921\"]]}, \"colorway\": [\"#636efa\", \"#EF553B\", \"#00cc96\", \"#ab63fa\", \"#FFA15A\", \"#19d3f3\", \"#FF6692\", \"#B6E880\", \"#FF97FF\", \"#FECB52\"], \"font\": {\"color\": \"#2a3f5f\"}, \"geo\": {\"bgcolor\": \"white\", \"lakecolor\": \"white\", \"landcolor\": \"#E5ECF6\", \"showlakes\": true, \"showland\": true, \"subunitcolor\": \"white\"}, \"hoverlabel\": {\"align\": \"left\"}, \"hovermode\": \"closest\", \"mapbox\": {\"style\": \"light\"}, \"paper_bgcolor\": \"white\", \"plot_bgcolor\": \"#E5ECF6\", \"polar\": {\"angularaxis\": {\"gridcolor\": \"white\", \"linecolor\": \"white\", \"ticks\": \"\"}, \"bgcolor\": \"#E5ECF6\", \"radialaxis\": {\"gridcolor\": \"white\", \"linecolor\": \"white\", \"ticks\": \"\"}}, \"scene\": {\"xaxis\": {\"backgroundcolor\": \"#E5ECF6\", \"gridcolor\": \"white\", \"gridwidth\": 2, \"linecolor\": \"white\", \"showbackground\": true, \"ticks\": \"\", \"zerolinecolor\": \"white\"}, \"yaxis\": {\"backgroundcolor\": \"#E5ECF6\", \"gridcolor\": \"white\", \"gridwidth\": 2, \"linecolor\": \"white\", \"showbackground\": true, \"ticks\": \"\", \"zerolinecolor\": \"white\"}, \"zaxis\": {\"backgroundcolor\": \"#E5ECF6\", \"gridcolor\": \"white\", \"gridwidth\": 2, \"linecolor\": \"white\", \"showbackground\": true, \"ticks\": \"\", \"zerolinecolor\": \"white\"}}, \"shapedefaults\": {\"line\": {\"color\": \"#2a3f5f\"}}, \"ternary\": {\"aaxis\": {\"gridcolor\": \"white\", \"linecolor\": \"white\", \"ticks\": \"\"}, \"baxis\": {\"gridcolor\": \"white\", \"linecolor\": \"white\", \"ticks\": \"\"}, \"bgcolor\": \"#E5ECF6\", \"caxis\": {\"gridcolor\": \"white\", \"linecolor\": \"white\", \"ticks\": \"\"}}, \"title\": {\"x\": 0.05}, \"xaxis\": {\"automargin\": true, \"gridcolor\": \"white\", \"linecolor\": \"white\", \"ticks\": \"\", \"title\": {\"standoff\": 15}, \"zerolinecolor\": \"white\", \"zerolinewidth\": 2}, \"yaxis\": {\"automargin\": true, \"gridcolor\": \"white\", \"linecolor\": \"white\", \"ticks\": \"\", \"title\": {\"standoff\": 15}, \"zerolinecolor\": \"white\", \"zerolinewidth\": 2}}}, \"title\": {\"text\": \"Total Sales\"}, \"xaxis\": {\"anchor\": \"y\", \"domain\": [0.0, 1.0], \"title\": {\"text\": \"Time\"}}, \"yaxis\": {\"anchor\": \"x\", \"domain\": [0.0, 1.0], \"title\": {\"text\": \"Total prise\"}}},                        {\"responsive\": true}                    ).then(function(){\n",
       "                            \n",
       "var gd = document.getElementById('97edbb93-3fa7-4a5f-bd1b-17a9c61a7a3d');\n",
       "var x = new MutationObserver(function (mutations, observer) {{\n",
       "        var display = window.getComputedStyle(gd).display;\n",
       "        if (!display || display === 'none') {{\n",
       "            console.log([gd, 'removed!']);\n",
       "            Plotly.purge(gd);\n",
       "            observer.disconnect();\n",
       "        }}\n",
       "}});\n",
       "\n",
       "// Listen for the removal of the full notebook cells\n",
       "var notebookContainer = gd.closest('#notebook-container');\n",
       "if (notebookContainer) {{\n",
       "    x.observe(notebookContainer, {childList: true});\n",
       "}}\n",
       "\n",
       "// Listen for the clearing of the current output cell\n",
       "var outputEl = gd.closest('.output');\n",
       "if (outputEl) {{\n",
       "    x.observe(outputEl, {childList: true});\n",
       "}}\n",
       "\n",
       "                        })                };                });            </script>        </div>"
      ]
     },
     "metadata": {},
     "output_type": "display_data"
    }
   ],
   "source": [
    "df_sales_sum = df.groupby('date_block_num').agg({'sum_price':'sum'}).reset_index().rename(columns={'date_block_num':'number_of_month', 'sum_price':'total_sales'})\n",
    "fig = px.line(df_sales_sum, x='number_of_month', y='total_sales')\n",
    "fig.update_layout(\n",
    "    title='Total Sales',\n",
    "    xaxis_title='Time',\n",
    "    yaxis_title='Total prise')\n",
    "fig.show()"
   ]
  },
  {
   "cell_type": "markdown",
   "id": "handled-flexibility",
   "metadata": {
    "papermill": {
     "duration": 0.044652,
     "end_time": "2021-05-11T10:43:40.386439",
     "exception": false,
     "start_time": "2021-05-11T10:43:40.341787",
     "status": "completed"
    },
    "tags": []
   },
   "source": [
    "In December 2014, there were fewer purchases than in December 2013, but they were more expensive. There is a clear seasonality in the data."
   ]
  },
  {
   "cell_type": "code",
   "execution_count": 20,
   "id": "environmental-albany",
   "metadata": {
    "execution": {
     "iopub.execute_input": "2021-05-11T10:43:40.485938Z",
     "iopub.status.busy": "2021-05-11T10:43:40.485161Z",
     "iopub.status.idle": "2021-05-11T10:43:41.140138Z",
     "shell.execute_reply": "2021-05-11T10:43:41.139325Z"
    },
    "papermill": {
     "duration": 0.707024,
     "end_time": "2021-05-11T10:43:41.140322",
     "exception": false,
     "start_time": "2021-05-11T10:43:40.433298",
     "status": "completed"
    },
    "tags": []
   },
   "outputs": [],
   "source": [
    "top_categories = df.groupby('item_category_id').agg({'item_id':'nunique'}).reset_index().rename(columns={'item_id':'count_items'}).sort_values(by='count_items', ascending=False).head(10)"
   ]
  },
  {
   "cell_type": "code",
   "execution_count": 21,
   "id": "turkish-journal",
   "metadata": {
    "execution": {
     "iopub.execute_input": "2021-05-11T10:43:41.257703Z",
     "iopub.status.busy": "2021-05-11T10:43:41.256962Z",
     "iopub.status.idle": "2021-05-11T10:43:41.626016Z",
     "shell.execute_reply": "2021-05-11T10:43:41.626534Z"
    },
    "papermill": {
     "duration": 0.440643,
     "end_time": "2021-05-11T10:43:41.626742",
     "exception": false,
     "start_time": "2021-05-11T10:43:41.186099",
     "status": "completed"
    },
    "tags": []
   },
   "outputs": [
    {
     "data": {
      "image/png": "[encoded data removed]",
      "text/plain": [
       "<Figure size 1800x576 with 1 Axes>"
      ]
     },
     "metadata": {},
     "output_type": "display_data"
    }
   ],
   "source": [
    "plt.figure(figsize=(25,8))\n",
    "plt.title('Top-10 selling categories', size=20)\n",
    "ax = sns.barplot(y=top_categories['count_items'], \n",
    "                 x=top_categories['item_category_id'])\n",
    "for p in ax.patches:\n",
    "        ax.annotate (str(int(p.get_height())), (p.get_x() + p.get_width() / 2., p.get_height()),\n",
    "             ha='center', va='center', rotation=0, xytext=(0, 20), textcoords='offset points')\n",
    "plt.xlabel('Category id', size=15)\n",
    "plt.ylabel('Count selling categories', size=15)\n",
    "plt.ylim(None,6000)\n",
    "plt.show()"
   ]
  },
  {
   "cell_type": "markdown",
   "id": "satisfied-james",
   "metadata": {
    "papermill": {
     "duration": 0.047743,
     "end_time": "2021-05-11T10:43:41.722089",
     "exception": false,
     "start_time": "2021-05-11T10:43:41.674346",
     "status": "completed"
    },
    "tags": []
   },
   "source": [
    "Most goods were sold from category 40 - 4964 items during the whole period of the survey. In second place is category 55 with 2327 items and in third place the category 37 with 1777 items sold."
   ]
  },
  {
   "cell_type": "code",
   "execution_count": 22,
   "id": "antique-madrid",
   "metadata": {
    "execution": {
     "iopub.execute_input": "2021-05-11T10:43:41.825806Z",
     "iopub.status.busy": "2021-05-11T10:43:41.825082Z",
     "iopub.status.idle": "2021-05-11T10:43:42.050823Z",
     "shell.execute_reply": "2021-05-11T10:43:42.050030Z"
    },
    "papermill": {
     "duration": 0.279162,
     "end_time": "2021-05-11T10:43:42.051025",
     "exception": false,
     "start_time": "2021-05-11T10:43:41.771863",
     "status": "completed"
    },
    "tags": []
   },
   "outputs": [],
   "source": [
    "distribution_categories = df[df['item_category_id'].isin(top_categories['item_category_id'])]"
   ]
  },
  {
   "cell_type": "code",
   "execution_count": 23,
   "id": "approximate-glory",
   "metadata": {
    "execution": {
     "iopub.execute_input": "2021-05-11T10:43:42.174859Z",
     "iopub.status.busy": "2021-05-11T10:43:42.167192Z",
     "iopub.status.idle": "2021-05-11T10:43:42.884222Z",
     "shell.execute_reply": "2021-05-11T10:43:42.883479Z"
    },
    "papermill": {
     "duration": 0.783487,
     "end_time": "2021-05-11T10:43:42.884388",
     "exception": false,
     "start_time": "2021-05-11T10:43:42.100901",
     "status": "completed"
    },
    "tags": []
   },
   "outputs": [
    {
     "data": {
      "image/png": "[encoded data removed]",
      "text/plain": [
       "<Figure size 1800x576 with 1 Axes>"
      ]
     },
     "metadata": {},
     "output_type": "display_data"
    }
   ],
   "source": [
    "plt.figure(figsize=(25,8))\n",
    "plt.title('Distribution of Top-10 selling categories depending on item_id', size=20)\n",
    "ax = sns.boxplot(x=\"item_category_id\", y=\"item_id\", data=distribution_categories)\n",
    "plt.xlabel('Category id', size=15)\n",
    "plt.ylabel('Count selling items', size=15)\n",
    "plt.show()"
   ]
  },
  {
   "cell_type": "markdown",
   "id": "computational-departure",
   "metadata": {
    "papermill": {
     "duration": 0.048879,
     "end_time": "2021-05-11T10:43:42.982564",
     "exception": false,
     "start_time": "2021-05-11T10:43:42.933685",
     "status": "completed"
    },
    "tags": []
   },
   "source": [
    "The greatest variation in values is observed for items in categories 37, 40 and 55. However, the categories 40 and 55 have no outliers. Goods in categories 19, 23 and 72 have the most abnormal values."
   ]
  },
  {
   "cell_type": "code",
   "execution_count": 24,
   "id": "angry-offer",
   "metadata": {
    "execution": {
     "iopub.execute_input": "2021-05-11T10:43:43.093538Z",
     "iopub.status.busy": "2021-05-11T10:43:43.092816Z",
     "iopub.status.idle": "2021-05-11T10:43:43.661518Z",
     "shell.execute_reply": "2021-05-11T10:43:43.662140Z"
    },
    "papermill": {
     "duration": 0.630373,
     "end_time": "2021-05-11T10:43:43.662370",
     "exception": false,
     "start_time": "2021-05-11T10:43:43.031997",
     "status": "completed"
    },
    "tags": []
   },
   "outputs": [
    {
     "data": {
      "image/png": "[encoded data removed]",
      "text/plain": [
       "<Figure size 864x576 with 1 Axes>"
      ]
     },
     "metadata": {},
     "output_type": "display_data"
    }
   ],
   "source": [
    "plt.rcParams['figure.figsize'] = (12, 8)\n",
    "stopwords = set(STOPWORDS)\n",
    "wordcloud = WordCloud(background_color = 'pink',\n",
    "                      max_words = 200, \n",
    "                      stopwords = stopwords,\n",
    "                     width = 1000,\n",
    "                     height = 500,\n",
    "                     random_state = 42).generate(str(items_cats['item_category_name']))\n",
    "\n",
    "\n",
    "plt.title('Wordcloud for Item Category Names', fontsize = 20)\n",
    "plt.axis('off')\n",
    "plt.imshow(wordcloud, interpolation = 'bilinear')\n",
    "plt.show()"
   ]
  },
  {
   "cell_type": "code",
   "execution_count": 25,
   "id": "intimate-carroll",
   "metadata": {
    "execution": {
     "iopub.execute_input": "2021-05-11T10:43:43.776635Z",
     "iopub.status.busy": "2021-05-11T10:43:43.775575Z",
     "iopub.status.idle": "2021-05-11T10:43:44.325577Z",
     "shell.execute_reply": "2021-05-11T10:43:44.326126Z"
    },
    "papermill": {
     "duration": 0.608329,
     "end_time": "2021-05-11T10:43:44.326357",
     "exception": false,
     "start_time": "2021-05-11T10:43:43.718028",
     "status": "completed"
    },
    "tags": []
   },
   "outputs": [],
   "source": [
    "items_per_shop = df.groupby('shop_name').agg({'item_cnt_day':'sum'}).reset_index().rename(columns={'item_cnt_day':'total_cnt_items'}).sort_values(by='total_cnt_items', ascending=False)"
   ]
  },
  {
   "cell_type": "code",
   "execution_count": 26,
   "id": "palestinian-annex",
   "metadata": {
    "execution": {
     "iopub.execute_input": "2021-05-11T10:43:44.441235Z",
     "iopub.status.busy": "2021-05-11T10:43:44.440174Z",
     "iopub.status.idle": "2021-05-11T10:43:46.117869Z",
     "shell.execute_reply": "2021-05-11T10:43:46.118376Z"
    },
    "papermill": {
     "duration": 1.73621,
     "end_time": "2021-05-11T10:43:46.118584",
     "exception": false,
     "start_time": "2021-05-11T10:43:44.382374",
     "status": "completed"
    },
    "tags": []
   },
   "outputs": [
    {
     "data": {
      "image/png": "[encoded data removed]",
      "text/plain": [
       "<Figure size 1200x1440 with 1 Axes>"
      ]
     },
     "metadata": {},
     "output_type": "display_data"
    }
   ],
   "source": [
    "plt.figure(figsize=(15,18), dpi=80)\n",
    "plt.title('Sales per shop', size=20)\n",
    "ax = sns.barplot(x=items_per_shop['total_cnt_items'], y=items_per_shop['shop_name'])\n",
    "plt.xlabel('Count of items', size=15)\n",
    "plt.ylabel('Shop name', size=15)\n",
    "plt.show()"
   ]
  },
  {
   "cell_type": "markdown",
   "id": "attractive-miniature",
   "metadata": {
    "papermill": {
     "duration": 0.060867,
     "end_time": "2021-05-11T10:43:46.240655",
     "exception": false,
     "start_time": "2021-05-11T10:43:46.179788",
     "status": "completed"
    },
    "tags": []
   },
   "source": [
    "Most goods were sold from the shop in Москва ТЦ \"Семеновский\" during the entire period."
   ]
  },
  {
   "cell_type": "code",
   "execution_count": 27,
   "id": "miniature-equity",
   "metadata": {
    "execution": {
     "iopub.execute_input": "2021-05-11T10:43:46.369729Z",
     "iopub.status.busy": "2021-05-11T10:43:46.369057Z",
     "iopub.status.idle": "2021-05-11T10:43:46.539525Z",
     "shell.execute_reply": "2021-05-11T10:43:46.538922Z"
    },
    "papermill": {
     "duration": 0.238218,
     "end_time": "2021-05-11T10:43:46.539702",
     "exception": false,
     "start_time": "2021-05-11T10:43:46.301484",
     "status": "completed"
    },
    "tags": []
   },
   "outputs": [],
   "source": [
    "cnt_items_shop_monthly = df.groupby(['shop_id', 'date_block_num']).agg({'item_cnt_day':'sum'}).reset_index().sort_values(by='item_cnt_day', ascending=False)"
   ]
  },
  {
   "cell_type": "code",
   "execution_count": 28,
   "id": "supreme-dinner",
   "metadata": {
    "execution": {
     "iopub.execute_input": "2021-05-11T10:43:46.696654Z",
     "iopub.status.busy": "2021-05-11T10:43:46.695792Z",
     "iopub.status.idle": "2021-05-11T10:43:50.957364Z",
     "shell.execute_reply": "2021-05-11T10:43:50.956715Z"
    },
    "papermill": {
     "duration": 4.356483,
     "end_time": "2021-05-11T10:43:50.957533",
     "exception": false,
     "start_time": "2021-05-11T10:43:46.601050",
     "status": "completed"
    },
    "tags": []
   },
   "outputs": [
    {
     "data": {
      "image/png": "[encoded data removed]",
      "text/plain": [
       "<Figure size 2160x720 with 1 Axes>"
      ]
     },
     "metadata": {},
     "output_type": "display_data"
    }
   ],
   "source": [
    "plt.figure(figsize=(30,10))\n",
    "plt.title('Average number of items sold per month in each shop', size=20)\n",
    "ax = sns.barplot(y=cnt_items_shop_monthly['item_cnt_day'], \n",
    "                 x=cnt_items_shop_monthly['shop_id'])\n",
    "for p in ax.patches:\n",
    "        ax.annotate (str(int(p.get_height())), (p.get_x() + p.get_width() / 2., p.get_height()),\n",
    "             ha='center', va='center', rotation=0, xytext=(0, 30), textcoords='offset points')\n",
    "plt.xlabel('Shop id', size=15)\n",
    "plt.ylabel('the average number of items sold', size=15)\n",
    "plt.show()"
   ]
  },
  {
   "cell_type": "markdown",
   "id": "hungarian-navigation",
   "metadata": {
    "papermill": {
     "duration": 0.066363,
     "end_time": "2021-05-11T10:43:51.088205",
     "exception": false,
     "start_time": "2021-05-11T10:43:51.021842",
     "status": "completed"
    },
    "tags": []
   },
   "source": [
    "On average, shop 31 sold about 9,153 items monthly. Shop 25 sold 7,124 items and Shop 54 sold 6,648 items monthly. From the number of sales we can judge the size of the shop, so it is likely - they are the largest in our sample."
   ]
  },
  {
   "cell_type": "markdown",
   "id": "thirty-sodium",
   "metadata": {
    "papermill": {
     "duration": 0.064768,
     "end_time": "2021-05-11T10:43:51.217057",
     "exception": false,
     "start_time": "2021-05-11T10:43:51.152289",
     "status": "completed"
    },
    "tags": []
   },
   "source": [
    "## Conclusions"
   ]
  },
  {
   "cell_type": "markdown",
   "id": "italian-republican",
   "metadata": {
    "papermill": {
     "duration": 0.064231,
     "end_time": "2021-05-11T10:43:51.346106",
     "exception": false,
     "start_time": "2021-05-11T10:43:51.281875",
     "status": "completed"
    },
    "tags": []
   },
   "source": [
    "* There are two sales peaks in the data - in December 2013 (183. thousand) and December 2014 (169. thousand) . This is the time when people make the most purchases for New Year's Eve gifts.\n",
    "* In December 2014, there were fewer purchases than in December 2013, but they were more expensive. There is a clear seasonality in the data.\n",
    "* Most goods were sold from category 40 - 4964 items during the whole period of the survey. In second place is category 55 with 2327 items and in third place the category 37 with 1777 items sold.\n",
    "* The greatest variation in values is observed for items in categories 37, 40 and 55. However, the categories 40 and 55 have no outliers. Goods in categories 19, 23 and 72 have the most abnormal values.\n",
    "* Most goods were sold from the shop in Москва ТЦ \"Семеновский\" during the entire period.\n",
    "* On average, shop 31 sold about 9,153 items monthly. Shop 25 sold 7,124 items and Shop 54 sold 6,648 items monthly. From the number of sales we can judge the size of the shop, so it is likely - they are the largest in our sample."
   ]
  }
 ],
 "metadata": {
  "kernelspec": {
   "display_name": "Python 3",
   "language": "python",
   "name": "python3"
  },
  "language_info": {
   "codemirror_mode": {
    "name": "ipython",
    "version": 3
   },
   "file_extension": ".py",
   "mimetype": "text/x-python",
   "name": "python",
   "nbconvert_exporter": "python",
   "pygments_lexer": "ipython3",
   "version": "3.7.10"
  },
  "papermill": {
   "default_parameters": {},
   "duration": 52.846024,
   "end_time": "2021-05-11T10:43:52.928510",
   "environment_variables": {},
   "exception": null,
   "input_path": "__notebook__.ipynb",
   "output_path": "__notebook__.ipynb",
   "parameters": {},
   "start_time": "2021-05-11T10:43:00.082486",
   "version": "2.3.2"
  }
 },
 "nbformat": 4,
 "nbformat_minor": 5
}
